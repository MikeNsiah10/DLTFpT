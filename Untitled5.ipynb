{
  "nbformat": 4,
  "nbformat_minor": 0,
  "metadata": {
    "colab": {
      "provenance": [],
      "authorship_tag": "ABX9TyOxlEMy3qppiyMD+wfkK5pu",
      "include_colab_link": true
    },
    "kernelspec": {
      "name": "python3",
      "display_name": "Python 3"
    },
    "language_info": {
      "name": "python"
    }
  },
  "cells": [
    {
      "cell_type": "markdown",
      "metadata": {
        "id": "view-in-github",
        "colab_type": "text"
      },
      "source": [
        "<a href=\"https://colab.research.google.com/github/MikeNsiah10/DLTFpT/blob/master/Untitled5.ipynb\" target=\"_parent\"><img src=\"https://colab.research.google.com/assets/colab-badge.svg\" alt=\"Open In Colab\"/></a>"
      ]
    },
    {
      "cell_type": "code",
      "execution_count": 574,
      "metadata": {
        "id": "OIzSLZh6uOrR"
      },
      "outputs": [],
      "source": [
        "from sklearn.datasets import load_digits\n",
        "import numpy as np"
      ]
    },
    {
      "cell_type": "code",
      "source": [
        "digits=load_digits()"
      ],
      "metadata": {
        "id": "GRqOMaanuUrj"
      },
      "execution_count": 575,
      "outputs": []
    },
    {
      "cell_type": "code",
      "source": [
        "inputs = digits.images  # 8x8 images\n",
        "targets = digits.target"
      ],
      "metadata": {
        "id": "1CgXR3Qyubij"
      },
      "execution_count": 576,
      "outputs": []
    },
    {
      "cell_type": "code",
      "source": [
        "import matplotlib.pyplot as plt\n",
        "\n",
        "# Assuming you've already loaded the digits dataset into X and y\n",
        "# X: Input features (8x8 greyscale images)\n",
        "# y: Target labels (0-9)\n",
        "\n",
        "# Plot the first ten images\n",
        "fig, axes = plt.subplots(2, 5, figsize=(10, 4))\n",
        "for i, ax in enumerate(axes.flat):\n",
        "    ax.imshow(inputs[i].reshape(8, 8), cmap='gray')  # Reshape to 8x8 and use grayscale colormap\n",
        "    ax.axis('off')  # Hide axes\n",
        "    ax.set_title(f\"Label: {targets[i]}\")\n",
        "\n",
        "plt.show()\n"
      ],
      "metadata": {
        "colab": {
          "base_uri": "https://localhost:8080/",
          "height": 360
        },
        "id": "xM7ek8iw2G9l",
        "outputId": "a91b08f1-9c27-465f-a3dd-198bf4fdc29e"
      },
      "execution_count": 577,
      "outputs": [
        {
          "output_type": "display_data",
          "data": {
            "text/plain": [
              "<Figure size 1000x400 with 10 Axes>"
            ],
            "image/png": "[encoded data removed]"
          },
          "metadata": {}
        }
      ]
    },
    {
      "cell_type": "code",
      "source": [
        "# Step 3: Reshape the images into vectors of shape (64)\n",
        "inputs = inputs.reshape(-1,64)\n",
        "print(inputs)"
      ],
      "metadata": {
        "colab": {
          "base_uri": "https://localhost:8080/",
          "height": 0
        },
        "id": "ISuCGMwUx2Qr",
        "outputId": "1f2c5efb-fb17-4946-fd32-84197a0b1242"
      },
      "execution_count": 578,
      "outputs": [
        {
          "output_type": "stream",
          "name": "stdout",
          "text": [
            "[[ 0.  0.  5. ...  0.  0.  0.]\n",
            " [ 0.  0.  0. ... 10.  0.  0.]\n",
            " [ 0.  0.  0. ... 16.  9.  0.]\n",
            " ...\n",
            " [ 0.  0.  1. ...  6.  0.  0.]\n",
            " [ 0.  0.  2. ... 12.  0.  0.]\n",
            " [ 0.  0. 10. ... 12.  1.  0.]]\n"
          ]
        }
      ]
    },
    {
      "cell_type": "code",
      "source": [
        "#normalisi the inputs\n",
        "inputs = inputs / 16.0\n",
        "print(inputs)"
      ],
      "metadata": {
        "colab": {
          "base_uri": "https://localhost:8080/",
          "height": 0
        },
        "id": "Ih5rPkMhySSM",
        "outputId": "76728451-d70e-40a5-897f-68b6ea7697f2"
      },
      "execution_count": 579,
      "outputs": [
        {
          "output_type": "stream",
          "name": "stdout",
          "text": [
            "[[0.     0.     0.3125 ... 0.     0.     0.    ]\n",
            " [0.     0.     0.     ... 0.625  0.     0.    ]\n",
            " [0.     0.     0.     ... 1.     0.5625 0.    ]\n",
            " ...\n",
            " [0.     0.     0.0625 ... 0.375  0.     0.    ]\n",
            " [0.     0.     0.125  ... 0.75   0.     0.    ]\n",
            " [0.     0.     0.625  ... 0.75   0.0625 0.    ]]\n"
          ]
        }
      ]
    },
    {
      "cell_type": "code",
      "source": [
        "\n",
        "num_classes = 10\n",
        "def encode(target, num_classes):\n",
        "   return np.eye(num_classes)[target.astype(int)]\n",
        "targets = encode(targets, num_classes)\n",
        "#targets = np.eye(num_classes)[targets.astype(int)]\n",
        "print(targets)"
      ],
      "metadata": {
        "colab": {
          "base_uri": "https://localhost:8080/",
          "height": 0
        },
        "id": "TwtWx1H1yh8G",
        "outputId": "d035b88a-cfde-4950-fcf8-871564fc4da2"
      },
      "execution_count": 580,
      "outputs": [
        {
          "output_type": "stream",
          "name": "stdout",
          "text": [
            "[[1. 0. 0. ... 0. 0. 0.]\n",
            " [0. 1. 0. ... 0. 0. 0.]\n",
            " [0. 0. 1. ... 0. 0. 0.]\n",
            " ...\n",
            " [0. 0. 0. ... 0. 1. 0.]\n",
            " [0. 0. 0. ... 0. 0. 1.]\n",
            " [0. 0. 0. ... 0. 1. 0.]]\n"
          ]
        }
      ]
    },
    {
      "cell_type": "code",
      "source": [
        "def get_minibatches(inputs, targets, batch_size):\n",
        "    indices = np.random.permutation(len(inputs))\n",
        "    for i in range(0, len(inputs), batch_size):\n",
        "        batch_indices = indices[i:i + batch_size]\n",
        "        yield inputs[batch_indices], targets[batch_indices]\n"
      ],
      "metadata": {
        "id": "dnVmQQtF0dSh"
      },
      "execution_count": 581,
      "outputs": []
    },
    {
      "cell_type": "code",
      "source": [
        "class Sigmoid:\n",
        "    def __call__(self, inputs):\n",
        "        # Apply the sigmoid activation function\n",
        "         return 1 / (1 + np.exp(-inputs))\n",
        "\n"
      ],
      "metadata": {
        "id": "YhalpIvJ0tha"
      },
      "execution_count": 582,
      "outputs": []
    },
    {
      "cell_type": "code",
      "source": [
        "class Softmax:\n",
        "    def __call__(self, inputs):\n",
        "        # Calculate the softmax along the second axis (axis=1)\n",
        "        exp_input = np.exp(inputs - np.max(inputs, axis=1, keepdims=True))\n",
        "        softmax_output = exp_input / np.sum(exp_input, axis=1, keepdims=True)\n",
        "        return softmax_output\n"
      ],
      "metadata": {
        "id": "nGBjlfoo5vkC"
      },
      "execution_count": 583,
      "outputs": []
    },
    {
      "cell_type": "code",
      "source": [
        "class MLPLayer:\n",
        "    def __init__(self, input_size, num_units, activation):\n",
        "        self.input_size=input_size\n",
        "        self.num_units=num_units\n",
        "        self.Weight = np.random.normal(0., 0.2, (input_size, num_units))\n",
        "        self.bias = np.zeros((1, num_units))\n",
        "        self.activation_func = activation()\n",
        "     #function to forward pass the inputs\n",
        "    def forward(self, inputs):\n",
        "        z = np.dot(inputs, self.Weight) + self.bias\n",
        "        return self.activation(z)\n"
      ],
      "metadata": {
        "id": "dfO_9NXn6uW-"
      },
      "execution_count": 584,
      "outputs": []
    },
    {
      "cell_type": "code",
      "source": [
        "class MLP:\n",
        "    def __init__(self, layer_sizes):\n",
        "        self.layers = []\n",
        "        for i in range(len(layer_sizes) - 1):\n",
        "            if i == len(layer_sizes) - 2:  # last layer\n",
        "                self.layers.append(MLPLayer(layer_sizes[i], layer_sizes[i+1], Softmax))\n",
        "                #any layer other than the last layer\n",
        "            else:\n",
        "                self.layers.append(MLPLayer(layer_sizes[i], layer_sizes[i+1], Sigmoid))\n",
        "\n",
        "    def forward(self, input_data):\n",
        "        for layer in self.layers:\n",
        "            input_data = layer.forward(input_data)\n",
        "        return input_data\n"
      ],
      "metadata": {
        "id": "OvtSxOD47qGy"
      },
      "execution_count": 585,
      "outputs": []
    },
    {
      "cell_type": "code",
      "source": [
        "class CCE_Loss:\n",
        "    def __init__(self):\n",
        "        pass\n",
        "\n",
        "    def call(self, y_true, y_pred):\n",
        "        n = y_true.shape[0]\n",
        "        log_likelihood = -np.log(y_pred[range(n), y_true])\n",
        "        loss = np.sum(log_likelihood) / n\n",
        "        return loss\n"
      ],
      "metadata": {
        "id": "l5lYzkW3-Msd"
      },
      "execution_count": 586,
      "outputs": []
    },
    {
      "cell_type": "code",
      "source": [
        "#Categorical Cross Entropy loss Backwards\n",
        "class CCE:\n",
        "    def __call__(self, y_pred, targets):\n",
        "        return -np.sum(targets * np.log(y_pred))\n",
        "    #backward the loss using the derivative of the loss function\n",
        "    def backward(self, y_pred, targets):\n",
        "        return y_pred - targets\n"
      ],
      "metadata": {
        "id": "Twtf_q0ix3lk"
      },
      "execution_count": 587,
      "outputs": []
    },
    {
      "cell_type": "code",
      "source": [
        "# Sigmoid Backwards\n",
        "class Sigmoid:\n",
        "    def __call__(self, inputs):\n",
        "        return 1 / (1 + np.exp(-inputs))\n",
        "\n",
        "    def backward(self, inputs):\n",
        "       sigmoid=self.__call__(inputs)\n",
        "       return sigmoid-(1-sigmoid)"
      ],
      "metadata": {
        "id": "2u0Fbly1yvY9"
      },
      "execution_count": 588,
      "outputs": []
    },
    {
      "cell_type": "code",
      "source": [
        "\n",
        "# MLP Layer Weights Backwards\n",
        "class MLPLayer:\n",
        "    def __init__(self, input_size, num_units, activation):\n",
        "        self.weights = np.random.normal(0, 0.2, (num_units, input_size))\n",
        "        self.bias = np.zeros((num_units, 1))\n",
        "        self.activation = activation()\n",
        "\n",
        "    def forward(self, inputs):\n",
        "        self.inputs = inputs # Save input for backward pass\n",
        "        self.z = np.dot(self.weights, inputs) + self.bias\n",
        "        return self.activation(self.z)\n",
        "\n",
        "    def backward(self, error, learning_rate):\n",
        "         dL_dz = error * self.activation.backward(self.z)\n",
        "         dL_dw = np.dot(self.inputs.T, dL_dz)/len(self.inputs) # Fix the shape here\n",
        "         dL_dx = np.dot(dL_dz, self.weights.T)\n",
        "         self.weights -= learning_rate * dL_dw\n",
        "         self.bias -= learning_rate * np.sum(dL_dz, axis=0, keepdims=True)\n",
        "         return dL_dx\n",
        "\n",
        "# MLP Backward\n",
        "class MLP:\n",
        "    def __init__(self, layer_sizes):\n",
        "        self.layers = []\n",
        "        for i in range(len(layer_sizes) - 1):\n",
        "            if i == len(layer_sizes) - 2:\n",
        "                self.layers.append(MLPLayer(layer_sizes[i], layer_sizes[i+1], Softmax))\n",
        "            else:\n",
        "                self.layers.append(MLPLayer(layer_sizes[i], layer_sizes[i+1], Sigmoid))\n",
        "\n",
        "    def forward(self, inputs):\n",
        "        for layer in self.layers:\n",
        "            x = layer.forward(inputs)\n",
        "        return x\n",
        "\n",
        "    def backward(self, error, learning_rate):\n",
        "        for layer in reversed(self.layers):\n",
        "            error = layer.backward(error, learning_rate)\n",
        "\n",
        "def get_minibatches(inputs, targets, batch_size):\n",
        "    indices = np.random.permutation(len(inputs))\n",
        "    for i in range(0, len(inputs), batch_size):\n",
        "        batch_indices = indices[i:i + batch_size]\n",
        "        yield inputs[batch_indices], targets[batch_indices]\n",
        "\n",
        "class CCE_Loss:\n",
        "    def __init__(self):\n",
        "        pass\n",
        "\n",
        "    def call(self, y_true, y_pred):\n",
        "        n = y_true.shape[0]\n",
        "        log_likelihood = -np.log(y_pred[range(n), np.argmax(y_true, axis=1)])\n",
        "        loss = np.sum(log_likelihood) / n\n",
        "        return loss\n",
        "\n",
        "class CCE:\n",
        "    def __call__(self, y_pred, targets):\n",
        "        return -np.sum(targets * np.log(y_pred))\n",
        "\n",
        "    def backward(self, y_pred, targets):\n",
        "        return y_pred - targets"
      ],
      "metadata": {
        "id": "HDfyX7EE1Dl-"
      },
      "execution_count": 589,
      "outputs": []
    },
    {
      "cell_type": "code",
      "source": [
        "def train_mlp(mlp, inputs, targets, num_epochs=100, learning_rate=0.01, batch_size=32):\n",
        "    loss_function = CCE()\n",
        "\n",
        "    for epoch in range(num_epochs):\n",
        "        total_loss = 0.0\n",
        "\n",
        "        # Generate mini-batches\n",
        "        for minibatch_inputs, minibatch_targets in get_minibatches(inputs, targets, batch_size):\n",
        "            # Forward pass\n",
        "            predictions = mlp.forward(minibatch_inputs)\n",
        "\n",
        "            # Compute loss\n",
        "            loss = loss_function(predictions, minibatch_targets)\n",
        "            total_loss += loss\n",
        "\n",
        "            # Backward pass\n",
        "            error = loss_function.backward(predictions, minibatch_targets)\n",
        "            mlp.backward(error, learning_rate)\n",
        "\n",
        "        # Print average loss for the epoch\n",
        "        average_loss = total_loss / len(inputs)\n",
        "        print(f\"Epoch {epoch + 1}/{num_epochs}, Loss: {average_loss}\")\n",
        "print(\"Inputs shape:\", inputs.shape)\n",
        "print(\"Targets shape:\", targets.shape)\n"
      ],
      "metadata": {
        "id": "dmA3j5nBCUSP",
        "colab": {
          "base_uri": "https://localhost:8080/",
          "height": 0
        },
        "outputId": "13c78bc8-88f1-4cd7-a88e-49b4a53c7eda"
      },
      "execution_count": 590,
      "outputs": [
        {
          "output_type": "stream",
          "name": "stdout",
          "text": [
            "Inputs shape: (1797, 64)\n",
            "Targets shape: (1797, 10)\n"
          ]
        }
      ]
    },
    {
      "cell_type": "markdown",
      "source": [],
      "metadata": {
        "id": "dTHpkjBYa2fX"
      }
    },
    {
      "cell_type": "code",
      "source": [
        "# Define the MLP model\n",
        "layer_sizes = [64, 128, 10]  # Input size, hidden layer size, output size\n",
        "mlp_model = MLP(layer_sizes)\n",
        "train_mlp(mlp_model, inputs, targets, num_epochs=100, learning_rate=0.01, batch_size=32)\n"
      ],
      "metadata": {
        "id": "ASGHH5ioL2rg"
      },
      "execution_count": null,
      "outputs": []
    },
    {
      "cell_type": "code",
      "source": [],
      "metadata": {
        "id": "PrnB6xogUGeO"
      },
      "execution_count": null,
      "outputs": []
    }
  ]
}