{
  "nbformat": 4,
  "nbformat_minor": 0,
  "metadata": {
    "colab": {
      "provenance": [],
      "authorship_tag": "ABX9TyNnvT3lz8GVigldo7Lt+nDF",
      "include_colab_link": true
    },
    "kernelspec": {
      "name": "python3",
      "display_name": "Python 3"
    },
    "language_info": {
      "name": "python"
    }
  },
  "cells": [
    {
      "cell_type": "markdown",
      "metadata": {
        "id": "view-in-github",
        "colab_type": "text"
      },
      "source": [
        "<a href=\"https://colab.research.google.com/github/MikeNsiah10/DLTFpT/blob/master/Untitled5.ipynb\" target=\"_parent\"><img src=\"https://colab.research.google.com/assets/colab-badge.svg\" alt=\"Open In Colab\"/></a>"
      ]
    },
    {
      "cell_type": "code",
      "execution_count": 86,
      "metadata": {
        "id": "OIzSLZh6uOrR"
      },
      "outputs": [],
      "source": [
        "from sklearn.datasets import load_digits\n",
        "import numpy as np\n",
        "import matplotlib.pyplot as plt\n"
      ]
    },
    {
      "cell_type": "code",
      "source": [
        "# Load the dataset\n",
        "digits = load_digits()\n",
        "inputs, targets = digits.data, digits.target\n",
        "\n",
        "# Preprocess the data\n",
        "inputs= inputs / 16.0  # Scale to [0, 1]\n",
        "targets = np.eye(10)[targets]  # One-hot encode the target\n",
        "print(targets)\n"
      ],
      "metadata": {
        "id": "GRqOMaanuUrj",
        "colab": {
          "base_uri": "https://localhost:8080/"
        },
        "outputId": "ac136316-e0ce-4cdd-ea91-24ff032be335"
      },
      "execution_count": 87,
      "outputs": [
        {
          "output_type": "stream",
          "name": "stdout",
          "text": [
            "[[1. 0. 0. ... 0. 0. 0.]\n",
            " [0. 1. 0. ... 0. 0. 0.]\n",
            " [0. 0. 1. ... 0. 0. 0.]\n",
            " ...\n",
            " [0. 0. 0. ... 0. 1. 0.]\n",
            " [0. 0. 0. ... 0. 0. 1.]\n",
            " [0. 0. 0. ... 0. 1. 0.]]\n"
          ]
        }
      ]
    },
    {
      "cell_type": "code",
      "source": [
        "# Generator function for shuffling and creating minibatches\n",
        "def minibatch_generator(inputs, targets, minibatch_size):\n",
        "   #get indices of the data samples\n",
        "    indices = np.arange(len(inputs))\n",
        "    np.random.shuffle(indices)\n",
        "    # Iterate over the shuffled indices to create minibatches\n",
        "    for start in range(0, len(indices), minibatch_size):\n",
        "        # Determine the end index of the current minibatc\n",
        "        end = min(start + minibatch_size, len(indices))\n",
        "        yield inputs[indices[start:end]], targets[indices[start:end]]\n"
      ],
      "metadata": {
        "id": "1CgXR3Qyubij"
      },
      "execution_count": 88,
      "outputs": []
    },
    {
      "cell_type": "code",
      "source": [
        "import matplotlib.pyplot as plt\n",
        "# Plot the first ten images\n",
        "fig, axes = plt.subplots(2, 5, figsize=(10, 4))\n",
        "for i, ax in enumerate(axes.flat):\n",
        "    ax.imshow(inputs[i].reshape(8, 8), cmap='gray')  # Reshape to 8x8 and use grayscale colormap\n",
        "    ax.axis('off')  # Hide axes\n",
        "    ax.set_title(f\"Label: {targets[i]}\")\n",
        "\n",
        "plt.show()\n"
      ],
      "metadata": {
        "colab": {
          "base_uri": "https://localhost:8080/",
          "height": 360
        },
        "id": "xM7ek8iw2G9l",
        "outputId": "21092051-edac-4083-d15d-bb5c579d7b4b"
      },
      "execution_count": 89,
      "outputs": [
        {
          "output_type": "display_data",
          "data": {
            "text/plain": [
              "<Figure size 1000x400 with 10 Axes>"
            ],
            "image/png": "[encoded data removed]"
          },
          "metadata": {}
        }
      ]
    },
    {
      "cell_type": "code",
      "source": [
        "# Sigmoid Activation Function\n",
        "class Sigmoid:\n",
        "    def __call__(self, x):\n",
        "        return 1 / (1 + np.exp(-x))\n",
        "\n",
        "    def backward(self, x):\n",
        "        return x * (1 - x)"
      ],
      "metadata": {
        "id": "ISuCGMwUx2Qr"
      },
      "execution_count": 90,
      "outputs": []
    },
    {
      "cell_type": "code",
      "source": [
        "# Softmax Activation Function\n",
        "class Softmax:\n",
        "    def __call__(self, x):\n",
        "        exp_values = np.exp(x - np.max(x, axis=1, keepdims=True))\n",
        "        return exp_values / np.sum(exp_values, axis=1, keepdims=True)\n",
        "    def backward(self, x):\n",
        "        return x * (1 - x)\n",
        ""
      ],
      "metadata": {
        "id": "Ih5rPkMhySSM"
      },
      "execution_count": 91,
      "outputs": []
    },
    {
      "cell_type": "code",
      "source": [
        "# MLP layer\n",
        "class MLPLayer:\n",
        "    def __init__(self, input_size, num_units, activation):\n",
        "      #initialise the weights and bias\n",
        "        self.weights = np.random.normal(0, 0.2, (input_size, num_units))\n",
        "        self.bias = np.zeros((1, num_units))\n",
        "        self.activation = activation\n",
        "\n",
        "    def forward(self, x):\n",
        "        #forward pass the input\n",
        "        self.input = x\n",
        "        #weighted sum of the inputs\n",
        "        self.pre_activation = np.dot(x, self.weights) + self.bias\n",
        "        self.output = self.activation(self.pre_activation)\n",
        "        return self.output\n",
        "\n",
        "    def backward(self, dL_doutput):\n",
        "    # Compute the gradient of the pre-activation with respect to the loss\n",
        "       dL_dpre_activation = dL_doutput * self.activation.backward(self.output)\n",
        "\n",
        "    # Compute the gradient of the loss with respect to the weights\n",
        "       dL_dW = np.dot(self.input.T, dL_dpre_activation)\n",
        "\n",
        "    # Compute the gradient of the loss with respect to the biases\n",
        "       dL_db = np.sum(dL_dpre_activation, axis=0, keepdims=True)\n",
        "\n",
        "    # Compute the gradient of the loss with respect to the input\n",
        "       dL_dinput = np.dot(dL_dpre_activation, self.weights.T)\n",
        "\n",
        "    # Return the computed gradients\n",
        "       return dL_dW, dL_db, dL_dinput"
      ],
      "metadata": {
        "id": "TwtWx1H1yh8G"
      },
      "execution_count": 92,
      "outputs": []
    },
    {
      "cell_type": "code",
      "source": [
        "# SoftmaxMLP layer for the output layer\n",
        "class SoftmaxMLPLayer(MLPLayer):\n",
        "    def __init__(self, input_size, num_units):\n",
        "        # Call the constructor of the parent class (MLPLayer)\n",
        "        super().__init__(input_size, num_units, Softmax())\n",
        "\n",
        "# Full MLP\n",
        "class MLP:\n",
        "    def __init__(self, layer_sizes):\n",
        "        # Initialize an empty list to store the layers of the MLP\n",
        "        self.layers = []\n",
        "\n",
        "        # Iterate over the layer sizes to create MLP layers\n",
        "        for i in range(1, len(layer_sizes)):\n",
        "            # Check if the current layer is the output layer\n",
        "            if i == len(layer_sizes) - 1:\n",
        "                # Add a SoftmaxMLPLayer for the output layer\n",
        "                self.layers.append(SoftmaxMLPLayer(layer_sizes[i - 1], layer_sizes[i]))\n",
        "            else:\n",
        "                # Add a hidden layer with Sigmoid activation for non-output layers\n",
        "                self.layers.append(MLPLayer(layer_sizes[i - 1], layer_sizes[i], Sigmoid()))\n",
        "\n",
        "    def forward(self, x):\n",
        "        # Forward pass through each layer in the MLP\n",
        "        for layer in self.layers:\n",
        "            x = layer.forward(x)\n",
        "        return x\n",
        "\n",
        "    def backward(self, dL_doutput):\n",
        "        # Backward pass through each layer in the MLP\n",
        "        for i in reversed(range(len(self.layers))):\n",
        "            # Compute gradients and update weights and biases\n",
        "            dL_dW, dL_db, dL_doutput = self.layers[i].backward(dL_doutput)\n",
        "            # Update weights and biases using a learning rate (assumed to be defined somewhere)\n",
        "            self.layers[i].weights -= learning_rate * dL_dW\n",
        "            self.layers[i].bias -= learning_rate * dL_db\n"
      ],
      "metadata": {
        "id": "mdEmnu_sn0Yl"
      },
      "execution_count": 93,
      "outputs": []
    },
    {
      "cell_type": "code",
      "source": [
        "# Categorical Cross-Entropy Loss\n",
        "class CCELoss:\n",
        "    def __call__(self, y_pred, y_true):\n",
        "        # Save predicted and true labels for later use in backward pass\n",
        "        self.y_pred = y_pred\n",
        "        self.y_true = y_true\n",
        "\n",
        "        # Avoid numerical instability by clipping predicted probabilities\n",
        "        epsilon = 1e-15\n",
        "        y_pred = np.clip(y_pred, epsilon, 1 - epsilon)\n",
        "\n",
        "        # Compute the Categorical Cross-Entropy Loss\n",
        "        loss = -np.sum(y_true * np.log(y_pred)) / len(y_pred)\n",
        "\n",
        "        # Return the computed loss\n",
        "        return loss\n",
        "\n",
        "    def backward(self, y_pred, y_true):\n",
        "        # Compute the gradient of the Categorical Cross-Entropy Loss\n",
        "        # with respect to the predicted probabilities\n",
        "        return y_pred - y_true\n"
      ],
      "metadata": {
        "id": "Ko7DTOYjoDpa"
      },
      "execution_count": 94,
      "outputs": []
    },
    {
      "cell_type": "code",
      "source": [
        "# Function to calculate accuracy\n",
        "def calculate_accuracy(y_pred, y_true):\n",
        "    predicted_labels = np.argmax(y_pred, axis=1)\n",
        "    true_labels = np.argmax(y_true, axis=1)\n",
        "    accuracy = np.mean(predicted_labels == true_labels)\n",
        "    return accuracy"
      ],
      "metadata": {
        "id": "bkYBpRySoJDA"
      },
      "execution_count": 95,
      "outputs": []
    },
    {
      "cell_type": "code",
      "source": [
        "\n",
        "#empty list to store the loss history\n",
        "loss_history = []\n",
        "# Training function\n",
        "def train(model, loss_fn, epochs, learning_rate, minibatch_size, inputs, targets):\n",
        "    # Iterate through epochs\n",
        "    for epoch in range(epochs):\n",
        "        total_loss = 0\n",
        "\n",
        "        # Iterate through minibatches using the data generator\n",
        "        for X_batch, y_batch in minibatch_generator(inputs,targets ,minibatch_size):\n",
        "            # Forward pass: compute predictions and calculate loss\n",
        "            y_pred = model.forward(X_batch)\n",
        "            loss = loss_fn(y_pred, y_batch)\n",
        "            total_loss += loss\n",
        "\n",
        "            # Backward pass: compute gradients and update model parameters\n",
        "            dL_doutput = loss_fn.backward(y_pred, y_batch)\n",
        "            model.backward(dL_doutput)\n",
        "\n",
        "        # Calculate training accuracy\n",
        "        y_train_pred = model.forward(inputs)\n",
        "        train_accuracy = calculate_accuracy(y_train_pred, targets)\n",
        "\n",
        "        # Calculate average loss for the epoch\n",
        "        avg_loss = total_loss / len(inputs)\n",
        "        loss_history.append(avg_loss)\n",
        "\n",
        "        # Print epoch information\n",
        "        print(f\"Epoch {epoch + 1}/{epochs}, Loss: {avg_loss}\")\n",
        "\n",
        "    # Plot the average loss vs. epoch\n",
        "    plt.plot(range(1, epochs + 1), loss_history, marker='o')\n",
        "    plt.title('Average Loss vs. Epoch')\n",
        "    plt.xlabel('Epoch')\n",
        "    plt.ylabel('Average Loss')\n",
        "    plt.show()\n"
      ],
      "metadata": {
        "id": "7StD1lmZoaKT"
      },
      "execution_count": 96,
      "outputs": []
    },
    {
      "cell_type": "code",
      "source": [
        "# Define model architecture\n",
        "layer_sizes = [64, 128, 10]  # Input size, hidden layer size, output size\n",
        "\n",
        "# Create the MLP model\n",
        "model = MLP(layer_sizes)\n",
        "\n",
        "# Define loss function\n",
        "loss_fn = CCELoss()\n",
        "\n",
        "# Training hyperparameters\n",
        "epochs = 100\n",
        "learning_rate = 0.01\n",
        "minibatch_size = 32\n",
        "\n",
        "# Split data to train\n",
        "X_train, y_train = inputs,targets\n",
        "\n",
        "# Train the model with validation data\n",
        "train(model, loss_fn, epochs, learning_rate, minibatch_size, X_train, y_train)\n",
        "\n",
        "# Calculate final accuracy\n",
        "final_pred = model.forward(inputs)\n",
        "final_accuracy = calculate_accuracy(final_pred, targets)\n",
        "print(f\"Final Accuracy: {final_accuracy}\")\n"
      ],
      "metadata": {
        "colab": {
          "base_uri": "https://localhost:8080/",
          "height": 1000
        },
        "id": "s_kaoCSXovfs",
        "outputId": "2122ca4a-e9c0-40de-80e9-6c3cf26119a9"
      },
      "execution_count": 97,
      "outputs": [
        {
          "output_type": "stream",
          "name": "stdout",
          "text": [
            "Epoch 1/100, Loss: 0.07541505684025868\n",
            "Epoch 2/100, Loss: 0.06853945888964287\n",
            "Epoch 3/100, Loss: 0.06365502922522062\n",
            "Epoch 4/100, Loss: 0.058315614679027794\n",
            "Epoch 5/100, Loss: 0.053539241532785734\n",
            "Epoch 6/100, Loss: 0.050806072535743145\n",
            "Epoch 7/100, Loss: 0.05794957984327966\n",
            "Epoch 8/100, Loss: 0.07437423887609285\n",
            "Epoch 9/100, Loss: 0.09098824548945454\n",
            "Epoch 10/100, Loss: 0.12097080103380707\n",
            "Epoch 11/100, Loss: 0.1373374157541157\n",
            "Epoch 12/100, Loss: 0.13561119449637596\n",
            "Epoch 13/100, Loss: 0.1374338658860989\n",
            "Epoch 14/100, Loss: 0.13904959291830438\n",
            "Epoch 15/100, Loss: 0.14125233991613664\n",
            "Epoch 16/100, Loss: 0.14245770201607325\n",
            "Epoch 17/100, Loss: 0.1436568275412233\n",
            "Epoch 18/100, Loss: 0.1439428011719782\n",
            "Epoch 19/100, Loss: 0.1448402229803061\n",
            "Epoch 20/100, Loss: 0.1481159367406707\n",
            "Epoch 21/100, Loss: 0.14466577980421874\n",
            "Epoch 22/100, Loss: 0.14494040306858003\n",
            "Epoch 23/100, Loss: 0.14426594666148737\n",
            "Epoch 24/100, Loss: 0.14395968707343634\n",
            "Epoch 25/100, Loss: 0.1434360114625129\n",
            "Epoch 26/100, Loss: 0.14593921708664676\n",
            "Epoch 27/100, Loss: 0.1451763136013257\n",
            "Epoch 28/100, Loss: 0.14812471734169946\n",
            "Epoch 29/100, Loss: 0.14131574719233897\n",
            "Epoch 30/100, Loss: 0.14444113370991835\n",
            "Epoch 31/100, Loss: 0.13954190258229612\n",
            "Epoch 32/100, Loss: 0.13956260037791507\n",
            "Epoch 33/100, Loss: 0.1418145497744092\n",
            "Epoch 34/100, Loss: 0.13845156180453094\n",
            "Epoch 35/100, Loss: 0.13802689656474879\n",
            "Epoch 36/100, Loss: 0.1400970220056869\n",
            "Epoch 37/100, Loss: 0.13958315027557178\n",
            "Epoch 38/100, Loss: 0.13927010028519532\n",
            "Epoch 39/100, Loss: 0.1388019773475281\n",
            "Epoch 40/100, Loss: 0.13514467236678662\n",
            "Epoch 41/100, Loss: 0.1338683923032489\n",
            "Epoch 42/100, Loss: 0.13359395844238653\n",
            "Epoch 43/100, Loss: 0.13348370215659536\n",
            "Epoch 44/100, Loss: 0.13266660398253002\n",
            "Epoch 45/100, Loss: 0.13186334901057012\n",
            "Epoch 46/100, Loss: 0.13471137462904526\n",
            "Epoch 47/100, Loss: 0.13051284201457425\n",
            "Epoch 48/100, Loss: 0.12985016699712768\n",
            "Epoch 49/100, Loss: 0.12928979520342365\n",
            "Epoch 50/100, Loss: 0.12860275104755553\n",
            "Epoch 51/100, Loss: 0.1280910806766415\n",
            "Epoch 52/100, Loss: 0.1271236093958873\n",
            "Epoch 53/100, Loss: 0.12992470648003768\n",
            "Epoch 54/100, Loss: 0.12941500908669798\n",
            "Epoch 55/100, Loss: 0.12536195502783612\n",
            "Epoch 56/100, Loss: 0.12453293058852836\n",
            "Epoch 57/100, Loss: 0.13094872136480798\n",
            "Epoch 58/100, Loss: 0.13321318542406343\n",
            "Epoch 59/100, Loss: 0.12296102127140243\n",
            "Epoch 60/100, Loss: 0.1226458937585365\n",
            "Epoch 61/100, Loss: 0.12209253276986635\n",
            "Epoch 62/100, Loss: 0.12798780258295647\n",
            "Epoch 63/100, Loss: 0.12453818512140323\n",
            "Epoch 64/100, Loss: 0.12104836184823096\n",
            "Epoch 65/100, Loss: 0.12351829938825211\n",
            "Epoch 66/100, Loss: 0.12017612583256176\n",
            "Epoch 67/100, Loss: 0.11974255811052585\n",
            "Epoch 68/100, Loss: 0.11931048665763888\n",
            "Epoch 69/100, Loss: 0.12241685315112849\n",
            "Epoch 70/100, Loss: 0.12229358643842046\n",
            "Epoch 71/100, Loss: 0.12193559435747349\n",
            "Epoch 72/100, Loss: 0.11869718628327094\n",
            "Epoch 73/100, Loss: 0.11879359190442304\n",
            "Epoch 74/100, Loss: 0.12176514649844677\n",
            "Epoch 75/100, Loss: 0.11859178474709078\n",
            "Epoch 76/100, Loss: 0.1184920059581967\n",
            "Epoch 77/100, Loss: 0.11836544917432018\n",
            "Epoch 78/100, Loss: 0.11810939870058154\n",
            "Epoch 79/100, Loss: 0.12110869511843605\n",
            "Epoch 80/100, Loss: 0.11772355138485041\n",
            "Epoch 81/100, Loss: 0.11756644580538643\n",
            "Epoch 82/100, Loss: 0.11755249064972886\n",
            "Epoch 83/100, Loss: 0.11749289283902116\n",
            "Epoch 84/100, Loss: 0.1174119950817101\n",
            "Epoch 85/100, Loss: 0.12378614513422236\n",
            "Epoch 86/100, Loss: 0.11699347798562842\n",
            "Epoch 87/100, Loss: 0.11708364959214831\n",
            "Epoch 88/100, Loss: 0.11697292463149109\n",
            "Epoch 89/100, Loss: 0.12006674874994827\n",
            "Epoch 90/100, Loss: 0.12305254541239823\n",
            "Epoch 91/100, Loss: 0.11973786691447648\n",
            "Epoch 92/100, Loss: 0.11644115910841929\n",
            "Epoch 93/100, Loss: 0.11956196850592608\n",
            "Epoch 94/100, Loss: 0.11954938902954287\n",
            "Epoch 95/100, Loss: 0.11608262664768947\n",
            "Epoch 96/100, Loss: 0.1161356911341475\n",
            "Epoch 97/100, Loss: 0.11605435530432816\n",
            "Epoch 98/100, Loss: 0.11917243075390208\n",
            "Epoch 99/100, Loss: 0.11581597891403567\n",
            "Epoch 100/100, Loss: 0.11593236332501965\n"
          ]
        },
        {
          "output_type": "display_data",
          "data": {
            "text/plain": [
              "<Figure size 640x480 with 1 Axes>"
            ],
            "image/png": "[encoded data removed]"
          },
          "metadata": {}
        },
        {
          "output_type": "stream",
          "name": "stdout",
          "text": [
            "Final Accuracy: 0.8402893711741792\n"
          ]
        }
      ]
    }
  ]
}