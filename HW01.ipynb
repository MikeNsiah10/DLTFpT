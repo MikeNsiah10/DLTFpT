{
  "cells": [
    {
      "cell_type": "markdown",
      "metadata": {
        "id": "view-in-github",
        "colab_type": "text"
      },
      "source": [
        "<a href=\"https://colab.research.google.com/github/MikeNsiah10/DLTFpT/blob/master/HW01.ipynb\" target=\"_parent\"><img src=\"https://colab.research.google.com/assets/colab-badge.svg\" alt=\"Open In Colab\"/></a>"
      ]
    },
    {
      "cell_type": "markdown",
      "metadata": {
        "id": "ighIhhiLaBtR"
      },
      "source": [
        "## Practical Exercise 1: word2vec\n",
        "By Joline Janz and Frederik Wollatz"
      ]
    },
    {
      "cell_type": "markdown",
      "metadata": {
        "id": "LpTQUaW0co-k"
      },
      "source": [
        "Each Notebook will contribute equaly to your final grade."
      ]
    },
    {
      "cell_type": "markdown",
      "metadata": {
        "id": "qCmr1p64aBtW"
      },
      "source": [
        "This practical Exercise is presented as an IPython Notebook, with the code written for recent versions of **Python 3**. \n",
        "\n",
        "To execute a notebook cell, press `shift-enter`. The return value of the last command will be displayed, if it is not `None`.\n",
        "\n",
        "Potentially useful library documentation, references, and resources:\n",
        "\n",
        "* IPython notebooks: <https://ipython.org/ipython-doc/3/notebook/notebook.html#introduction>\n",
        "* Numpy numerical array library: <https://docs.scipy.org/doc/>\n",
        "* Gensim's word2vec: <https://radimrehurek.com/gensim/models/word2vec.html>\n",
        "* Bokeh interactive plots: <http://bokeh.pydata.org/en/latest/> (we provide plotting code here, but click the thumbnails for more examples to copy-paste)\n",
        "* scikit-learn ML library (aka `sklearn`): <http://scikit-learn.org/stable/documentation.html>\n",
        "* nltk NLP toolkit: <http://www.nltk.org/>\n",
        "* tutorial for processing xml in python using `lxml`: <http://lxml.de/tutorial.html> (we did this for you below, but in case you need it in the future)"
      ]
    },
    {
      "cell_type": "markdown",
      "metadata": {
        "id": "AzHhEXkWco-r"
      },
      "source": [
        "In this Notebook you will learn the basics on how to construct a word-embedding. As you recall from the lecture, word-embeddings are a type of word representation that allows words with similar meaning to have a similar representation. To do this, words are represented as real-valued vectors in a predefined vector space. Additionally, you will also learn how to use some basic NLP tools like tokenization and regular Expressions!\n",
        "Good Luck!"
      ]
    },
    {
      "cell_type": "code",
      "execution_count": 1,
      "metadata": {
        "id": "569W6MImaBtX"
      },
      "outputs": [],
      "source": [
        "import numpy as np\n",
        "import os\n",
        "from random import shuffle\n",
        "import re"
      ]
    },
    {
      "cell_type": "code",
      "source": [
        "!pip install num2words"
      ],
      "metadata": {
        "colab": {
          "base_uri": "https://localhost:8080/"
        },
        "id": "lNUMnrjICiSf",
        "outputId": "47cbaeaf-24be-477a-a125-95d0a812c45c"
      },
      "execution_count": 2,
      "outputs": [
        {
          "output_type": "stream",
          "name": "stdout",
          "text": [
            "Looking in indexes: https://pypi.org/simple, https://us-python.pkg.dev/colab-wheels/public/simple/\n",
            "Collecting num2words\n",
            "  Downloading num2words-0.5.12-py3-none-any.whl (125 kB)\n",
            "\u001b[K     |████████████████████████████████| 125 kB 5.1 MB/s \n",
            "\u001b[?25hCollecting docopt>=0.6.2\n",
            "  Downloading docopt-0.6.2.tar.gz (25 kB)\n",
            "Building wheels for collected packages: docopt\n",
            "  Building wheel for docopt (setup.py) ... \u001b[?25l\u001b[?25hdone\n",
            "  Created wheel for docopt: filename=docopt-0.6.2-py2.py3-none-any.whl size=13723 sha256=10296730542368a18fc6e422e490d22a6f75af2f2dfeb88ca0d0a37aa935721f\n",
            "  Stored in directory: /root/.cache/pip/wheels/56/ea/58/ead137b087d9e326852a851351d1debf4ada529b6ac0ec4e8c\n",
            "Successfully built docopt\n",
            "Installing collected packages: docopt, num2words\n",
            "Successfully installed docopt-0.6.2 num2words-0.5.12\n"
          ]
        }
      ]
    },
    {
      "cell_type": "code",
      "execution_count": 3,
      "metadata": {
        "id": "rsgimgrUaBtd"
      },
      "outputs": [],
      "source": [
        "from bokeh.models import ColumnDataSource, LabelSet\n",
        "from bokeh.plotting import figure, show, output_file\n",
        "from bokeh.io import output_notebook\n",
        "from num2words import num2words\n",
        "output_notebook()"
      ]
    },
    {
      "cell_type": "code",
      "execution_count": 4,
      "metadata": {
        "id": "ofHeuGejaZHs"
      },
      "outputs": [],
      "source": [
        "from sys import executable\n",
        "try: \n",
        "    import nltk\n",
        "except:\n",
        "    import sys #Here we install nltk. You only have to execute this cell once!\n",
        "    !{sys.executable} -m pip install nltk \n",
        "    import nltk\n",
        "    nltk.download()"
      ]
    },
    {
      "cell_type": "code",
      "source": [
        "nltk.download(\"punkt\")"
      ],
      "metadata": {
        "colab": {
          "base_uri": "https://localhost:8080/"
        },
        "id": "zW9iCs7mGy0M",
        "outputId": "e7780f43-6f0d-4254-e215-418c4fceed1a"
      },
      "execution_count": 5,
      "outputs": [
        {
          "output_type": "stream",
          "name": "stderr",
          "text": [
            "[nltk_data] Downloading package punkt to /root/nltk_data...\n",
            "[nltk_data]   Unzipping tokenizers/punkt.zip.\n"
          ]
        },
        {
          "output_type": "execute_result",
          "data": {
            "text/plain": [
              "True"
            ]
          },
          "metadata": {},
          "execution_count": 5
        }
      ]
    },
    {
      "cell_type": "markdown",
      "metadata": {
        "id": "Haav4K7YaBti"
      },
      "source": [
        "### Part 0: Load the TED dataset"
      ]
    },
    {
      "cell_type": "markdown",
      "metadata": {
        "id": "y_L2VA4Mco-2"
      },
      "source": [
        "As input we need a large amount of text data. We will use the TED database, which are the transcripts of Ted Talks."
      ]
    },
    {
      "cell_type": "code",
      "execution_count": 6,
      "metadata": {
        "id": "stf464BBaBtj"
      },
      "outputs": [],
      "source": [
        "import zipfile\n",
        "import lxml.etree"
      ]
    },
    {
      "cell_type": "code",
      "execution_count": 7,
      "metadata": {
        "colab": {
          "base_uri": "https://localhost:8080/",
          "height": 73
        },
        "id": "2GPN2XwC-kwo",
        "outputId": "1e1390d5-3c8e-43d9-b5c0-bc78d33df9b2"
      },
      "outputs": [
        {
          "output_type": "display_data",
          "data": {
            "text/plain": [
              "<IPython.core.display.HTML object>"
            ],
            "text/html": [
              "\n",
              "     <input type=\"file\" id=\"files-13848c55-d342-4e8e-9b0a-61a2440b26d1\" name=\"files[]\" multiple disabled\n",
              "        style=\"border:none\" />\n",
              "     <output id=\"result-13848c55-d342-4e8e-9b0a-61a2440b26d1\">\n",
              "      Upload widget is only available when the cell has been executed in the\n",
              "      current browser session. Please rerun this cell to enable.\n",
              "      </output>\n",
              "      <script>// Copyright 2017 Google LLC\n",
              "//\n",
              "// Licensed under the Apache License, Version 2.0 (the \"License\");\n",
              "// you may not use this file except in compliance with the License.\n",
              "// You may obtain a copy of the License at\n",
              "//\n",
              "//      http://www.apache.org/licenses/LICENSE-2.0\n",
              "//\n",
              "// Unless required by applicable law or agreed to in writing, software\n",
              "// distributed under the License is distributed on an \"AS IS\" BASIS,\n",
              "// WITHOUT WARRANTIES OR CONDITIONS OF ANY KIND, either express or implied.\n",
              "// See the License for the specific language governing permissions and\n",
              "// limitations under the License.\n",
              "\n",
              "/**\n",
              " * @fileoverview Helpers for google.colab Python module.\n",
              " */\n",
              "(function(scope) {\n",
              "function span(text, styleAttributes = {}) {\n",
              "  const element = document.createElement('span');\n",
              "  element.textContent = text;\n",
              "  for (const key of Object.keys(styleAttributes)) {\n",
              "    element.style[key] = styleAttributes[key];\n",
              "  }\n",
              "  return element;\n",
              "}\n",
              "\n",
              "// Max number of bytes which will be uploaded at a time.\n",
              "const MAX_PAYLOAD_SIZE = 100 * 1024;\n",
              "\n",
              "function _uploadFiles(inputId, outputId) {\n",
              "  const steps = uploadFilesStep(inputId, outputId);\n",
              "  const outputElement = document.getElementById(outputId);\n",
              "  // Cache steps on the outputElement to make it available for the next call\n",
              "  // to uploadFilesContinue from Python.\n",
              "  outputElement.steps = steps;\n",
              "\n",
              "  return _uploadFilesContinue(outputId);\n",
              "}\n",
              "\n",
              "// This is roughly an async generator (not supported in the browser yet),\n",
              "// where there are multiple asynchronous steps and the Python side is going\n",
              "// to poll for completion of each step.\n",
              "// This uses a Promise to block the python side on completion of each step,\n",
              "// then passes the result of the previous step as the input to the next step.\n",
              "function _uploadFilesContinue(outputId) {\n",
              "  const outputElement = document.getElementById(outputId);\n",
              "  const steps = outputElement.steps;\n",
              "\n",
              "  const next = steps.next(outputElement.lastPromiseValue);\n",
              "  return Promise.resolve(next.value.promise).then((value) => {\n",
              "    // Cache the last promise value to make it available to the next\n",
              "    // step of the generator.\n",
              "    outputElement.lastPromiseValue = value;\n",
              "    return next.value.response;\n",
              "  });\n",
              "}\n",
              "\n",
              "/**\n",
              " * Generator function which is called between each async step of the upload\n",
              " * process.\n",
              " * @param {string} inputId Element ID of the input file picker element.\n",
              " * @param {string} outputId Element ID of the output display.\n",
              " * @return {!Iterable<!Object>} Iterable of next steps.\n",
              " */\n",
              "function* uploadFilesStep(inputId, outputId) {\n",
              "  const inputElement = document.getElementById(inputId);\n",
              "  inputElement.disabled = false;\n",
              "\n",
              "  const outputElement = document.getElementById(outputId);\n",
              "  outputElement.innerHTML = '';\n",
              "\n",
              "  const pickedPromise = new Promise((resolve) => {\n",
              "    inputElement.addEventListener('change', (e) => {\n",
              "      resolve(e.target.files);\n",
              "    });\n",
              "  });\n",
              "\n",
              "  const cancel = document.createElement('button');\n",
              "  inputElement.parentElement.appendChild(cancel);\n",
              "  cancel.textContent = 'Cancel upload';\n",
              "  const cancelPromise = new Promise((resolve) => {\n",
              "    cancel.onclick = () => {\n",
              "      resolve(null);\n",
              "    };\n",
              "  });\n",
              "\n",
              "  // Wait for the user to pick the files.\n",
              "  const files = yield {\n",
              "    promise: Promise.race([pickedPromise, cancelPromise]),\n",
              "    response: {\n",
              "      action: 'starting',\n",
              "    }\n",
              "  };\n",
              "\n",
              "  cancel.remove();\n",
              "\n",
              "  // Disable the input element since further picks are not allowed.\n",
              "  inputElement.disabled = true;\n",
              "\n",
              "  if (!files) {\n",
              "    return {\n",
              "      response: {\n",
              "        action: 'complete',\n",
              "      }\n",
              "    };\n",
              "  }\n",
              "\n",
              "  for (const file of files) {\n",
              "    const li = document.createElement('li');\n",
              "    li.append(span(file.name, {fontWeight: 'bold'}));\n",
              "    li.append(span(\n",
              "        `(${file.type || 'n/a'}) - ${file.size} bytes, ` +\n",
              "        `last modified: ${\n",
              "            file.lastModifiedDate ? file.lastModifiedDate.toLocaleDateString() :\n",
              "                                    'n/a'} - `));\n",
              "    const percent = span('0% done');\n",
              "    li.appendChild(percent);\n",
              "\n",
              "    outputElement.appendChild(li);\n",
              "\n",
              "    const fileDataPromise = new Promise((resolve) => {\n",
              "      const reader = new FileReader();\n",
              "      reader.onload = (e) => {\n",
              "        resolve(e.target.result);\n",
              "      };\n",
              "      reader.readAsArrayBuffer(file);\n",
              "    });\n",
              "    // Wait for the data to be ready.\n",
              "    let fileData = yield {\n",
              "      promise: fileDataPromise,\n",
              "      response: {\n",
              "        action: 'continue',\n",
              "      }\n",
              "    };\n",
              "\n",
              "    // Use a chunked sending to avoid message size limits. See b/62115660.\n",
              "    let position = 0;\n",
              "    do {\n",
              "      const length = Math.min(fileData.byteLength - position, MAX_PAYLOAD_SIZE);\n",
              "      const chunk = new Uint8Array(fileData, position, length);\n",
              "      position += length;\n",
              "\n",
              "      const base64 = btoa(String.fromCharCode.apply(null, chunk));\n",
              "      yield {\n",
              "        response: {\n",
              "          action: 'append',\n",
              "          file: file.name,\n",
              "          data: base64,\n",
              "        },\n",
              "      };\n",
              "\n",
              "      let percentDone = fileData.byteLength === 0 ?\n",
              "          100 :\n",
              "          Math.round((position / fileData.byteLength) * 100);\n",
              "      percent.textContent = `${percentDone}% done`;\n",
              "\n",
              "    } while (position < fileData.byteLength);\n",
              "  }\n",
              "\n",
              "  // All done.\n",
              "  yield {\n",
              "    response: {\n",
              "      action: 'complete',\n",
              "    }\n",
              "  };\n",
              "}\n",
              "\n",
              "scope.google = scope.google || {};\n",
              "scope.google.colab = scope.google.colab || {};\n",
              "scope.google.colab._files = {\n",
              "  _uploadFiles,\n",
              "  _uploadFilesContinue,\n",
              "};\n",
              "})(self);\n",
              "</script> "
            ]
          },
          "metadata": {}
        },
        {
          "output_type": "stream",
          "name": "stdout",
          "text": [
            "Saving ted_en-20160408.zip to ted_en-20160408.zip\n"
          ]
        }
      ],
      "source": [
        "# Upload the dataset if it's not already there: this may take a minute as it is 75MB\n",
        "if not os.path.isfile('ted_en-20160408.zip'):\n",
        "  from google.colab import files\n",
        "  # select the file \"ted_en-20160408.zip\" from your local drive here\n",
        "  uploaded = files.upload()"
      ]
    },
    {
      "cell_type": "code",
      "execution_count": 8,
      "metadata": {
        "id": "0oWf1JkvaBtr"
      },
      "outputs": [],
      "source": [
        "# For now, we're only interested in the subtitle text, so let's extract that from the XML:\n",
        "with zipfile.ZipFile('ted_en-20160408.zip', 'r') as z:\n",
        "    doc = lxml.etree.parse(z.open('ted_en-20160408.xml', 'r'))\n",
        "input_text = '\\n'.join(doc.xpath('//content/text()'))\n",
        "del doc"
      ]
    },
    {
      "cell_type": "markdown",
      "metadata": {
        "id": "G9UVfpExaBtu"
      },
      "source": [
        "### Part 1: Preprocessing\n",
        "\n",
        "Before using our text, we need to preprocess it. Therefore, we bring it into a form that is predictable and analyzable. We attempt to clean up the raw subtitles a bit, so that we get only complete sentences. The following substring shows examples of what we're trying to get rid of. Since it's hard to define precisely what we want to get rid of, we'll just use some simple heuristics."
      ]
    },
    {
      "cell_type": "markdown",
      "metadata": {
        "id": "eKWHxHG7bkWa"
      },
      "source": [
        "<h4>Execercise 1.1 (2 Points)</h4> \n",
        "Before we work with the data we should have a look at it. We already marked some areas for you, that need to be cleaned. You do not have to code anything here, you just have to become aware of sensitive preprocessing steps."
      ]
    },
    {
      "cell_type": "code",
      "execution_count": 9,
      "metadata": {
        "colab": {
          "base_uri": "https://localhost:8080/"
        },
        "id": "yGpx6RFzaBtv",
        "outputId": "863b7e3e-089a-4028-ce27-345db725e4e8",
        "scrolled": false
      },
      "outputs": [
        {
          "output_type": "stream",
          "name": "stdout",
          "text": [
            "Hyowon Gweon: See this? (Ball squeaks) Did you see that? (Ball squeaks) Cool. See this one? (Ball squeaks) Wow.\n",
            "Laura Schulz: Told you. (Laughs)\n",
            "\n",
            "You will earn 10% of any gold \n"
          ]
        }
      ],
      "source": [
        "#Have a look at the output of this code, to see some examples\n",
        "i = input_text.find(\"Hyowon Gweon: See this?\")\n",
        "print(input_text[i:i+145])\n",
        "\n",
        "\n",
        "i = input_text.find(\"You will earn\")\n",
        "print(input_text[i:i+30])"
      ]
    },
    {
      "cell_type": "markdown",
      "metadata": {
        "id": "5Y7gtjkWcJ-2"
      },
      "source": [
        "For example the parenthesized strings like \"(Ball squeaks)\" and symbols like % could have a negative impact on the word embeddings. Name at least two more problematic sections and how you would solve them.\n"
      ]
    },
    {
      "cell_type": "markdown",
      "metadata": {
        "id": "DqC68N5Yco_E"
      },
      "source": [
        "<b>Your Solution:</b> \n",
        "<br>- Parenthesized Strings\n",
        "<br>- Percent-Symbol\n",
        "<br>-\n",
        "<br>-\n"
      ]
    },
    {
      "cell_type": "markdown",
      "metadata": {
        "id": "CH2seZr2aBt1"
      },
      "source": [
        "<h4>Exercise 1.2 (2 Points)</h4>\n",
        "Let's start by removing all parenthesized strings using a regex:"
      ]
    },
    {
      "cell_type": "code",
      "execution_count": 10,
      "metadata": {
        "colab": {
          "base_uri": "https://localhost:8080/"
        },
        "id": "8u3YXkh5aBt1",
        "outputId": "ea878b74-9fcd-49df-c32d-751d540e1304"
      },
      "outputs": [
        {
          "output_type": "stream",
          "name": "stdout",
          "text": [
            "before\n",
            "Hyowon Gweon: See this? (Ball squeaks) Did you see that? (Ball squeaks) Cool. See this one? (\n",
            "after\n",
            "Hyowon Gweon: See this?  Did you see that?  Cool. See this one?  Wow.\n",
            "Laura Schulz: Told you.\n"
          ]
        }
      ],
      "source": [
        "i = input_text.find(\"Hyowon Gweon: See this?\")\n",
        "print(\"before\")\n",
        "print(input_text[i:i+93])\n",
        "\n",
        "input_text_noparens = re.sub(r'\\([^)]*\\)', '', input_text) #Identifies everything in parenthesis and replaces it with \"\"\n",
        "\n",
        "\n",
        "#you can use this to verify\n",
        "i = input_text_noparens.find(\"Hyowon Gweon: See this?\")\n",
        "print(\"after\")\n",
        "print(input_text_noparens[i:i+93])\n",
        "\n",
        "#We won't worry about the irregular spaces since we'll later split the text into sentences and tokenize it anyway."
      ]
    },
    {
      "cell_type": "markdown",
      "metadata": {
        "id": "FtwPNpChdjww"
      },
      "source": [
        "Try it yourself: Replace every percentage Symbol with the word \"percent\""
      ]
    },
    {
      "cell_type": "code",
      "execution_count": 51,
      "metadata": {
        "colab": {
          "base_uri": "https://localhost:8080/"
        },
        "id": "6o6oEW0AdiDY",
        "outputId": "9c2f58fd-cf8d-4648-a52f-5ac6ed2cee37"
      },
      "outputs": [
        {
          "output_type": "stream",
          "name": "stdout",
          "text": [
            "before\n",
            "You will earn 10% of any gold \n",
            "after\n",
            "You will earn 10 percent  of any gold\n"
          ]
        },
        {
          "output_type": "execute_result",
          "data": {
            "text/plain": [
              "24222849"
            ]
          },
          "metadata": {},
          "execution_count": 51
        }
      ],
      "source": [
        "i = input_text_noparens.find(\"You will earn\")\n",
        "print(\"before\")\n",
        "print(input_text_noparens[i:i+30])\n",
        "\n",
        "#Your implementation goes here!\n",
        "input_text_clean=re.sub(\"%\",\" percent \",input_text_noparens)\n",
        "\n",
        "i = input_text_clean.find(\"You will earn\")\n",
        "print(\"after\")\n",
        "print(input_text_clean[i:i+37])"
      ]
    },
    {
      "cell_type": "markdown",
      "metadata": {
        "id": "67ZOyc_9e2aS"
      },
      "source": [
        "<h4>Exercise 1.3 (4 Points)</h4>\n",
        "Now you have learned how to use RegEx to your advantage and have Identified potential parts of the text, that we want to eliminate. We have already implented how to remove all parenthesized strings. Now we want to replace every number in the text with its respectiv string. E.g. 10 -> ten ; \n",
        "42 -> forty-two\n"
      ]
    },
    {
      "cell_type": "code",
      "execution_count": 12,
      "metadata": {
        "colab": {
          "base_uri": "https://localhost:8080/"
        },
        "id": "S6NKj6fNfXMQ",
        "outputId": "21a07b64-2c0d-45e9-9ba2-f30749ae86bf"
      },
      "outputs": [
        {
          "output_type": "stream",
          "name": "stdout",
          "text": [
            "before\n",
            "You will earn 10 percent  of any gold\n",
            "after\n",
            "You will earn ten percent  of any gol\n"
          ]
        }
      ],
      "source": [
        "i = input_text_clean.find(\"You will earn\") #find problematic parts\n",
        "print(\"before\")\n",
        "print(input_text_clean[i:i+37]) #and show them\n",
        "\n",
        "\n",
        "#Your implementation here\n",
        "input_text_clean=re.sub(\"\\d+\",lambda x: num2words(int(x.group(0))),input_text_clean)\n",
        "\n",
        "\n",
        "i = input_text_clean.find(\"You will earn\") #validate your method\n",
        "print(\"after\")\n",
        "print(input_text_clean[i:i+37])"
      ]
    },
    {
      "cell_type": "markdown",
      "metadata": {
        "id": "BJEtm8eOaBt9"
      },
      "source": [
        "<h4>Exercise 1.4 (4 Points)</h4>\n",
        "What does this block of code do? Identify one possible flaw. You dont have to code anything here!\n"
      ]
    },
    {
      "cell_type": "code",
      "execution_count": 13,
      "metadata": {
        "id": "oFUCfLOkco_K",
        "outputId": "6ffd1a15-591e-4b5d-d215-fe05feea584c",
        "colab": {
          "base_uri": "https://localhost:8080/"
        }
      },
      "outputs": [
        {
          "output_type": "stream",
          "name": "stdout",
          "text": [
            "before:\n",
            "let's see what the baby does.\n",
            " Hyowon Gweon: See this?  Did you see that?  Cool. See this one?  Wow.\n",
            "Laura Schulz: Told you\n",
            "after:\n",
            " let's see what the baby does. See this?  Did you see that?  Cool. See this one?  Wow.\n"
          ]
        }
      ],
      "source": [
        "i = input_text_clean.find(\"Hyowon Gweon: See this?\")\n",
        "print(\"before:\")\n",
        "print(input_text_clean[i-31:i+92])\n",
        "\n",
        "X = []\n",
        "for line in input_text_clean.split('\\n'):\n",
        "    m = re.match(r'^(?:(?P<precolon>[^:]{,20}):)?(?P<postcolon>.*)$', line)\n",
        "    X.extend(m.groupdict()['postcolon'])\n",
        "input_text_clean2=\"\".join(X)\n",
        "\n",
        "\n",
        "i = input_text_clean2.find(\"See this?\")\n",
        "print(\"after:\")\n",
        "print(input_text_clean2[i-31:i+55])"
      ]
    },
    {
      "cell_type": "raw",
      "metadata": {
        "id": "ix75Rnrrco_M"
      },
      "source": [
        "Your Answer goes here!\n",
        "\n",
        "The code seeks to return all matching characters in the named subgroup (precolon,followed by ):)? and postcolon)\n",
        "The re.match returns only matched characters in the beginning of the specified search. For this reason, all characters specified\n",
        " not beginning in the line(split sentence) will not be matched."
      ]
    },
    {
      "cell_type": "code",
      "source": [],
      "metadata": {
        "id": "w8ubCBe6CZfa"
      },
      "execution_count": 13,
      "outputs": []
    },
    {
      "cell_type": "markdown",
      "metadata": {
        "id": "sX5lFA4XijPm"
      },
      "source": [
        "<h4>Exercise 1.5 (6 Points)</h4>\n",
        "\n",
        "To build our embedding we need to tokenize every single word. Therefore we first need to split the text into sentences and after that into words. \n",
        "Try it yourself or use the NLTK-Tools build for this (https://www.kite.com/python/docs/nltk.word_tokenize + https://www.kite.com/python/docs/nltk.sent_tokenize).\n",
        "To make it easier to build our Embedding we should also delete every character that is not a letter. Additionally, we could lower vocabulary count. A way to do this is by converting capital characters to lower case characters.\n",
        "\n",
        "Split your text into sentences and save them in the array `sentences_strings_ted`.\n",
        "Save one variabale `tokens` with all the tokens in the text and one array named `sentences_ted` that contains an array for every sentence, with all the tokenized words of that sentence.<br><br>\n",
        "Example:<br>\n",
        "If the Text looks like this: \"I love cake. You have to be honest, you love it too!\", the variables look like:<br><br>\n",
        "sentences_strings_ted=['I love cake.', 'You have to be honest, you love it too!']<br>\n",
        "sentences_ted=[['i', 'love', 'cake'], ['you', 'have', 'to', 'be', 'honest', 'you', 'love', 'it', 'too']]<br>\n",
        "tokens=['i', 'love', 'cake', 'you', 'have', 'to', 'be', 'honest', 'you', 'love', 'it', 'too']<br>\n",
        "\n",
        "\n",
        "Apply this to `input_text_clean`"
      ]
    },
    {
      "cell_type": "code",
      "source": [
        "from nltk import word_tokenize,sent_tokenize"
      ],
      "metadata": {
        "id": "OAvTSzWzYZfU"
      },
      "execution_count": 14,
      "outputs": []
    },
    {
      "cell_type": "code",
      "source": [
        "\n",
        "sentences_strings_ted=sent_tokenize(input_text_clean[:5000000])\n",
        "#print(sentences_strings_ted)\n",
        "#x=input_text_clean.split(\"\\n\")\n",
        "#print(x[1])\n",
        "#sentences_ted=[s.lower() for s in sentences_strings_ted if s.lower()  not in stpwrds]\n",
        "#print(sentences_ted)\n",
        "#tokens=word_tokenize(input_text_clean[:2000])\n",
        "#print(tokens)\n",
        "#tokens=word_tokenize(input_text_clean[:15000].lower())\n",
        "#print(tokens)\n",
        "sentences_ted=[]\n",
        "tokenizer=nltk.RegexpTokenizer(r\"\\w+\")\n",
        "for each_sentence in sentences_strings_ted:\n",
        "    lower=each_sentence.lower()\n",
        "    tokenize_sentence= tokenizer.tokenize(lower)\n",
        "    sentences_ted.append(tokenize_sentence)\n",
        "(sentences_ted[:5000000])\n",
        "tokens=[]\n",
        "for x in sentences_ted:\n",
        "  for each_token in x:\n",
        "    tokens.append(each_token)\n",
        "\n",
        "#print(tokens)\n",
        "\n",
        "\n",
        "\n",
        "\n",
        "\n"
      ],
      "metadata": {
        "id": "xX5uUMPnOF_F"
      },
      "execution_count": 77,
      "outputs": []
    },
    {
      "cell_type": "markdown",
      "metadata": {
        "id": "sUiFC0I5j31i"
      },
      "source": [
        "<h4>Exercise 1.6 (1 Point)</h4>\n",
        "The good side is, that by converting all capital letters is, we reduce the volume of the vocabulary. Thereby we dont differentiate between the the words \"today\" and \"Today\". \n",
        "Can you think of any downside to this process?"
      ]
    },
    {
      "cell_type": "markdown",
      "metadata": {
        "id": "-Yt08f-sco_O"
      },
      "source": [
        "YOUR ANSWER GOES HERE\n",
        "One of the downside is when we are building an nlp application to predict sentences. Capital letters will be crucial in such cases and converting letters to lower case may lead to wrong predictions been made."
      ]
    },
    {
      "cell_type": "markdown",
      "metadata": {
        "id": "g8Fs3pzZmHHv"
      },
      "source": [
        "Now we can have a look at the processed dataset:"
      ]
    },
    {
      "cell_type": "code",
      "execution_count": 70,
      "metadata": {
        "colab": {
          "base_uri": "https://localhost:8080/"
        },
        "id": "ooe1gfSZaBuG",
        "outputId": "fddef8d3-39df-4b14-b9db-febfc00ba921"
      },
      "outputs": [
        {
          "output_type": "execute_result",
          "data": {
            "text/plain": [
              "52861"
            ]
          },
          "metadata": {},
          "execution_count": 70
        }
      ],
      "source": [
        "len(sentences_ted)"
      ]
    },
    {
      "cell_type": "code",
      "execution_count": 38,
      "metadata": {
        "id": "Jwdw8QxbaBuJ",
        "outputId": "7babd47c-8f7b-4d2d-d6fc-4cbb70c33467",
        "colab": {
          "base_uri": "https://localhost:8080/"
        }
      },
      "outputs": [
        {
          "output_type": "stream",
          "name": "stdout",
          "text": [
            "['here', 'are', 'two', 'reasons', 'companies', 'fail', 'they', 'only', 'do', 'more', 'of', 'the', 'same', 'or', 'they', 'only', 'do', 'what', 's', 'new']\n",
            "['it', 's', 'hard', 'to', 'make', 'the', 'better', 'choice', 'and', 'it', 'is', 'so', 'easy', 'to', 'jus']\n"
          ]
        }
      ],
      "source": [
        "print(sentences_ted[0])\n",
        "print(sentences_ted[-1])"
      ]
    },
    {
      "cell_type": "markdown",
      "metadata": {
        "id": "SCjkAGHjaBuN"
      },
      "source": [
        "### Part 2: Word Frequencies"
      ]
    },
    {
      "cell_type": "markdown",
      "metadata": {
        "id": "hvLMH0iXaBuO"
      },
      "source": [
        "<h4>Exercise 2.1 (4 Points)</h4>\n",
        "Your next task will be to store the counts of the top 1000 most frequent words in a list called `counts_ted_top1000` ! There are multiple ways to do this. You can have a look at the Counter-Function(https://docs.python.org/2/library/collections.html) or the FreqDist-Function (https://www.kite.com/python/docs/nltk.FreqDist). If you dont trust any of those you can of course build your own function.\n",
        "In the end we want an array with tupels of the structure [(WordA,FrequencyA),(WordB,FrequencyB)]."
      ]
    },
    {
      "cell_type": "markdown",
      "source": [],
      "metadata": {
        "id": "Yg7VbYJl51PY"
      }
    },
    {
      "cell_type": "code",
      "source": [
        "from collections import Counter"
      ],
      "metadata": {
        "id": "wUpgiAW4zmFn"
      },
      "execution_count": 39,
      "outputs": []
    },
    {
      "cell_type": "code",
      "execution_count": 71,
      "metadata": {
        "id": "LcQzY8iWaBuP",
        "colab": {
          "base_uri": "https://localhost:8080/"
        },
        "outputId": "75225ec3-f0ff-47a1-d4a9-71e584764878"
      },
      "outputs": [
        {
          "output_type": "stream",
          "name": "stdout",
          "text": [
            "[('the', 41769), ('and', 30444), ('to', 26647), ('of', 22862), ('a', 21412), ('that', 19933), ('i', 16877), ('in', 15976), ('we', 14552), ('it', 13819), ('you', 12683), ('is', 11512), ('s', 10451), ('this', 8924), ('so', 7125), ('was', 6925), ('they', 6679), ('for', 6474), ('but', 5977), ('are', 5933), ('have', 5527), ('with', 5131), ('on', 5126), ('what', 5117), ('t', 4660), ('can', 4496), ('my', 4298), ('about', 4272), ('be', 4232), ('as', 4154), ('not', 4064), ('at', 4006), ('there', 3996), ('people', 3703), ('all', 3678), ('our', 3602), ('like', 3468), ('one', 3386), ('do', 3352), ('from', 3311), ('or', 3068), ('if', 3049), ('when', 3017), ('re', 2946), ('me', 2876), ('just', 2823), ('he', 2804), ('an', 2800), ('now', 2756), ('because', 2670), ('these', 2628), ('by', 2599), ('had', 2533), ('were', 2508), ('more', 2501), ('how', 2483), ('them', 2455), ('out', 2443), ('their', 2430), ('who', 2375), ('up', 2200), ('your', 2165), ('us', 2156), ('would', 2144), ('very', 2138), ('know', 2118), ('think', 2059), ('going', 1970), ('see', 1952), ('time', 1927), ('world', 1919), ('ve', 1747), ('then', 1743), ('m', 1733), ('really', 1728), ('some', 1686), ('get', 1664), ('which', 1662), ('has', 1656), ('don', 1618), ('where', 1602), ('will', 1600), ('could', 1594), ('she', 1576), ('here', 1567), ('been', 1546), ('into', 1523), ('no', 1515), ('years', 1512), ('way', 1495), ('other', 1474), ('those', 1460), ('than', 1381), ('things', 1375), ('first', 1367), ('go', 1355), ('make', 1334), ('right', 1324), ('well', 1318), ('actually', 1294), ('want', 1286), ('even', 1276), ('also', 1250), ('two', 1232), ('most', 1230), ('new', 1222), ('much', 1217), ('something', 1191), ('his', 1180), ('said', 1156), ('her', 1147), ('only', 1144), ('many', 1143), ('work', 1134), ('over', 1115), ('back', 1102), ('need', 1075), ('look', 1055), ('every', 1046), ('why', 1024), ('life', 1020), ('take', 993), ('thing', 970), ('say', 952), ('did', 948), ('day', 911), ('around', 905), ('got', 892), ('let', 881), ('same', 873), ('good', 863), ('being', 856), ('lot', 854), ('different', 839), ('through', 834), ('little', 829), ('year', 819), ('thank', 782), ('come', 769), ('after', 765), ('human', 763), ('down', 756), ('use', 752), ('percent', 740), ('change', 737), ('today', 736), ('three', 723), ('any', 718), ('find', 709), ('d', 706), ('called', 697), ('women', 688), ('ll', 686), ('tell', 680), ('made', 677), ('didn', 674), ('kind', 662), ('might', 662), ('doing', 647), ('started', 646), ('before', 639), ('never', 632), ('better', 627), ('data', 624), ('still', 623), ('great', 617), ('its', 614), ('own', 614), ('together', 603), ('fact', 591), ('talk', 584), ('put', 578), ('important', 573), ('able', 568), ('him', 563), ('next', 557), ('last', 553), ('idea', 552), ('another', 550), ('problem', 546), ('part', 542), ('give', 536), ('too', 535), ('found', 532), ('should', 531), ('each', 530), ('place', 526), ('again', 523), ('ever', 522), ('came', 518), ('between', 517), ('thought', 517), ('question', 515), ('few', 514), ('big', 513), ('does', 510), ('went', 507), ('help', 507), ('used', 506), ('water', 505), ('ago', 504), ('long', 502), ('system', 502), ('love', 498), ('000', 481), ('brain', 477), ('old', 474), ('start', 474), ('home', 472), ('country', 472), ('off', 472), ('live', 471), ('story', 463), ('feel', 461), ('maybe', 459), ('school', 455), ('men', 455), ('looking', 446), ('may', 445), ('doesn', 444), ('wanted', 444), ('understand', 442), ('away', 440), ('always', 438), ('am', 437), ('course', 434), ('example', 423), ('bit', 423), ('show', 421), ('technology', 421), ('become', 420), ('end', 417), ('call', 411), ('person', 411), ('countries', 407), ('family', 404), ('four', 404), ('using', 403), ('number', 401), ('real', 400), ('10', 400), ('believe', 400), ('try', 398), ('thinking', 395), ('means', 395), ('mean', 395), ('trying', 394), ('everything', 394), ('social', 393), ('power', 391), ('high', 391), ('hard', 390), ('working', 389), ('told', 388), ('done', 384), ('point', 383), ('city', 383), ('second', 382), ('man', 379), ('information', 379), ('took', 376), ('small', 375), ('while', 373), ('create', 370), ('community', 369), ('million', 368), ('times', 366), ('without', 364), ('young', 360), ('lives', 358), ('children', 357), ('space', 357), ('five', 352), ('science', 349), ('someone', 348), ('best', 346), ('making', 346), ('less', 332), ('such', 332), ('nothing', 332), ('future', 330), ('happened', 330), ('almost', 330), ('left', 330), ('later', 329), ('enough', 328), ('body', 327), ('kids', 325), ('comes', 323), ('friends', 322), ('myself', 321), ('asked', 320), ('public', 319), ('ask', 318), ('knew', 318), ('yes', 317), ('saw', 316), ('days', 315), ('whole', 315), ('experience', 313), ('moment', 311), ('seen', 310), ('ways', 306), ('quite', 306), ('pretty', 304), ('getting', 304), ('once', 303), ('case', 302), ('already', 300), ('having', 300), ('often', 299), ('across', 299), ('sometimes', 299), ('health', 297), ('imagine', 296), ('anything', 296), ('care', 295), ('far', 294), ('light', 294), ('build', 292), ('makes', 292), ('probably', 291), ('job', 291), ('happen', 291), ('black', 291), ('half', 289), ('remember', 288), ('instead', 288), ('coming', 287), ('talking', 287), ('side', 287), ('living', 286), ('learn', 286), ('earth', 285), ('global', 284), ('yet', 283), ('wasn', 280), ('woman', 279), ('money', 279), ('building', 277), ('states', 277), ('sure', 276), ('looked', 275), ('against', 274), ('months', 273), ('possible', 273), ('reality', 272), ('answer', 272), ('night', 272), ('okay', 272), ('design', 271), ('process', 271), ('both', 269), ('single', 267), ('computer', 266), ('inside', 265), ('amazing', 265), ('mind', 264), ('whether', 262), ('sense', 262), ('words', 262), ('food', 261), ('learned', 261), ('war', 261), ('energy', 260), ('else', 259), ('saying', 259), ('reason', 256), ('united', 256), ('20', 255), ('bad', 255), ('since', 255), ('control', 255), ('open', 254), ('planet', 254), ('became', 253), ('history', 253), ('wrong', 252), ('matter', 252), ('true', 250), ('simple', 249), ('set', 248), ('research', 247), ('face', 247), ('age', 247), ('keep', 246), ('government', 246), ('internet', 245), ('until', 243), ('questions', 243), ('stop', 243), ('hope', 241), ('group', 241), ('study', 240), ('happens', 240), ('word', 239), ('move', 237), ('looks', 237), ('within', 235), ('room', 235), ('says', 234), ('hand', 233), ('share', 231), ('play', 231), ('interesting', 231), ('companies', 230), ('30', 230), ('everyone', 230), ('100', 229), ('turn', 229), ('dollars', 227), ('decided', 227), ('under', 226), ('though', 226), ('six', 225), ('society', 224), ('head', 223), ('top', 223), ('stories', 223), ('others', 222), ('american', 221), ('white', 221), ('felt', 221), ('isn', 220), ('themselves', 219), ('exactly', 218), ('team', 218), ('cities', 218), ('america', 217), ('oh', 217), ('changed', 215), ('thousands', 215), ('beautiful', 215), ('past', 214), ('company', 213), ('couldn', 213), ('places', 213), ('rights', 213), ('hours', 212), ('order', 212), ('hear', 211), ('bring', 210), ('yeah', 210), ('run', 209), ('sort', 209), ('read', 209), ('front', 208), ('middle', 207), ('parents', 207), ('project', 207), ('picture', 207), ('1', 206), ('entire', 205), ('billion', 205), ('disease', 204), ('name', 203), ('state', 203), ('media', 203), ('completely', 203), ('child', 203), ('problems', 202), ('turns', 202), ('worked', 201), ('goes', 201), ('house', 201), ('behind', 200), ('gets', 200), ('ourselves', 199), ('mother', 199), ('perhaps', 199), ('needed', 199), ('given', 198), ('ones', 198), ('somebody', 198), ('climate', 198), ('book', 198), ('heard', 197), ('happening', 197), ('early', 197), ('patients', 197), ('line', 196), ('taken', 196), ('father', 196), ('car', 196), ('created', 196), ('humans', 195), ('couple', 195), ('taking', 194), ('learning', 194), ('fish', 193), ('sound', 193), ('heart', 192), ('ca', 192), ('local', 190), ('finally', 190), ('during', 189), ('level', 189), ('least', 189), ('model', 189), ('weeks', 188), ('political', 188), ('built', 188), ('animals', 188), ('must', 187), ('difficult', 186), ('realized', 186), ('50', 186), ('systems', 186), ('yourself', 185), ('guy', 185), ('free', 185), ('music', 184), ('eyes', 184), ('based', 183), ('15', 182), ('education', 182), ('piece', 182), ('turned', 182), ('works', 182), ('business', 182), ('everybody', 180), ('nature', 180), ('huge', 180), ('ted', 180), ('outside', 180), ('century', 180), ('hands', 179), ('leave', 179), ('known', 179), ('began', 179), ('drugs', 179), ('walk', 179), ('simply', 177), ('large', 177), ('rather', 177), ('poor', 177), ('phone', 177), ('risk', 176), ('minutes', 176), ('difference', 176), ('language', 176), ('video', 175), ('powerful', 174), ('students', 173), ('per', 173), ('easy', 172), ('seeing', 172), ('medical', 172), ('air', 171), ('close', 171), ('africa', 171), ('cell', 171), ('challenge', 170), ('full', 170), ('scientists', 170), ('universe', 169), ('economic', 169), ('growth', 168), ('friend', 168), ('week', 168), ('york', 167), ('kinds', 167), ('met', 167), ('drug', 167), ('gave', 167), ('u', 167), ('third', 166), ('species', 166), ('national', 166), ('environment', 166), ('self', 166), ('ideas', 165), ('figure', 164), ('form', 164), ('itself', 163), ('violence', 163), ('stuff', 162), ('hundreds', 162), ('machine', 161), ('access', 161), ('seven', 161), ('lots', 160), ('death', 160), ('deep', 159), ('cancer', 159), ('feeling', 159), ('population', 159), ('scale', 159), ('lost', 159), ('takes', 158), ('culture', 158), ('communities', 158), ('along', 157), ('common', 157), ('law', 157), ('write', 157), ('opportunity', 156), ('police', 156), ('natural', 155), ('step', 155), ('happy', 155), ('news', 155), ('basically', 155), ('telling', 155), ('chance', 154), ('support', 154), ('longer', 154), ('cannot', 153), ('choice', 153), ('movement', 153), ('girl', 153), ('changes', 152), ('alone', 152), ('image', 152), ('paper', 151), ('online', 150), ('art', 149), ('speak', 149), ('voice', 149), ('international', 149), ('field', 148), ('physical', 148), ('fear', 148), ('god', 148), ('average', 146), ('millions', 146), ('cells', 146), ('particular', 146), ('spent', 145), ('stay', 145), ('soon', 145), ('won', 145), ('ocean', 145), ('shows', 144), ('view', 144), ('europe', 144), ('tried', 144), ('numbers', 143), ('growing', 143), ('google', 143), ('born', 142), ('2', 142), ('needs', 142), ('hold', 142), ('certain', 141), ('realize', 141), ('quickly', 141), ('sitting', 141), ('morning', 141), ('understanding', 141), ('blood', 140), ('wrote', 140), ('program', 140), ('south', 140), ('either', 139), ('running', 139), ('special', 139), ('parts', 138), ('cause', 137), ('test', 137), ('wouldn', 136), ('whatever', 136), ('areas', 136), ('attention', 136), ('issues', 136), ('gone', 135), ('color', 135), ('personal', 135), ('solve', 135), ('conversation', 135), ('blue', 135), ('images', 135), ('grow', 134), ('dream', 134), ('several', 134), ('issue', 134), ('animal', 134), ('fight', 134), ('doctors', 134), ('search', 133), ('ability', 133), ('cost', 133), ('low', 133), ('beginning', 133), ('tiny', 133), ('girls', 133), ('journey', 132), ('street', 132), ('center', 132), ('key', 132), ('size', 131), ('complex', 131), ('asking', 131), ('university', 130), ('surface', 130), ('land', 130), ('red', 129), ('gender', 129), ('anyone', 129), ('listen', 129), ('message', 128), ('send', 128), ('china', 128), ('guys', 127), ('relationship', 127), ('higher', 127), ('changing', 126), ('groups', 126), ('literally', 126), ('likely', 126), ('giving', 126), ('reasons', 125), ('die', 125), ('including', 125), ('lab', 125), ('deal', 125), ('generation', 124), ('especially', 124), ('protect', 124), ('spend', 124), ('evidence', 124), ('clear', 124), ('12', 123), ('dark', 123), ('discovered', 123), ('behavior', 123), ('eight', 123), ('forest', 122), ('resources', 122), ('absolutely', 122), ('eye', 122), ('crazy', 122), ('pay', 122), ('audience', 122), ('knowledge', 121), ('seems', 121), ('40', 121), ('rate', 121), ('kid', 120), ('development', 120), ('success', 119), ('plant', 119), ('truth', 119), ('area', 119), ('north', 119), ('rest', 119), ('solar', 119), ('baby', 119), ('term', 118), ('families', 118), ('result', 118), ('recently', 118), ('nobody', 118), ('wealth', 118), ('moving', 118), ('river', 118), ('safe', 117), ('incredible', 117), ('cut', 117), ('race', 117), ('individual', 117), ('interested', 117), ('situation', 117), ('designed', 117), ('amount', 116), ('among', 116), ('similar', 116), ('medicine', 116), ('approach', 116), ('beyond', 116), ('poverty', 116), ('prison', 116), ('network', 116), ('meters', 116), ('potential', 115), ('class', 115), ('camera', 115), ('tree', 115), ('bg', 115), ('creating', 114), ('led', 114), ('basic', 114), ('bottom', 114), ('meet', 114), ('act', 114), ('progress', 114), ('computers', 114), ('son', 113), ('11', 113), ('theory', 113), ('results', 113), ('cases', 113), ('dna', 113), ('autism', 113), ('seem', 112), ('watching', 112), ('stage', 112), ('sea', 112), ('indeed', 112), ('decision', 111), ('however', 111), ('refugees', 111), ('cars', 111), ('terms', 111), ('developed', 111), ('bodies', 111), ('patient', 111), ('market', 111), ('boy', 111), ('focus', 110), ('loved', 109), ('allow', 109), ('ground', 109), ('organization', 109), ('leaders', 109), ('digital', 109), ('break', 109), ('brought', 109), ('showed', 109), ('role', 109), ('ready', 109), ('response', 109), ('writing', 109), ('largest', 108), ('objects', 108), ('extremely', 107), ('perfect', 107), ('buy', 107), ('choose', 107), ('plants', 107), ('nine', 107), ('meant', 107), ('colleagues', 107), ('feet', 107), ('solution', 106), ('short', 106), ('tools', 106), ('normal', 106), ('box', 106), ('record', 106), ('books', 106), ('nice', 106), ('hit', 105), ('worse', 105), ('month', 105), ('doctor', 105), ('security', 104), ('tv', 104), ('walking', 104), ('sent', 104), ('fundamental', 104), ('meaning', 104), ('talked', 104), ('taught', 104), ('code', 104), ('hour', 104), ('general', 104), ('material', 103), ('eventually', 103), ('watch', 103), ('brazil', 103), ('map', 103), ('weren', 103), ('starts', 103), ('economy', 103), ('eat', 103), ('60', 102), ('decades', 102), ('career', 102), ('late', 102), ('sex', 102), ('relationships', 102), ('models', 102), ('examples', 101), ('sun', 101), ('standing', 101), ('starting', 101), ('thanks', 101), ('develop', 101), ('green', 101), ('workers', 101), ('fast', 100), ('favorite', 100), ('modern', 100), ('pain', 100), ('mom', 100), ('laws', 100), ('impact', 100), ('industry', 100), ('trust', 100), ('innovation', 99), ('miles', 99), ('gives', 99), ('creative', 99), ('scientific', 99), ('dead', 99), ('continue', 99), ('choices', 99), ('consider', 98), ('strong', 98), ('exist', 98), ('guess', 98), ('totally', 98), ('named', 98), ('lived', 98), ('legal', 98), ('treatment', 98), ('involved', 98), ('organizations', 98), ('truly', 97), ('cold', 97), ('finding', 97), ('dangerous', 97), ('reach', 97), ('bigger', 97), ('hospital', 97), ('stand', 97), ('planets', 96), ('intelligence', 96), ('anymore', 96), ('game', 96), ('college', 96), ('diseases', 96), ('gay', 96), ('robots', 96), ('crisis', 95), ('available', 95), ('save', 95), ('80', 95), ('pictures', 95), ('moved', 95), ('towards', 95), ('individuals', 95), ('jobs', 95), ('wait', 95), ('experiment', 95), ('died', 95), ('female', 95), ('genes', 94), ('forward', 94), ('allowed', 94), ('office', 94), ('type', 94), ('african', 94), ('value', 94), ('shown', 94), ('begin', 93), ('consciousness', 93), ('200', 93), ('inequality', 93), ('major', 93), ('tells', 93), ('worth', 93), ('pick', 93), ('lead', 92), ('conditions', 92), ('plan', 92), ('aren', 92), ('president', 92), ('3', 92), ('structure', 92), ('report', 92), ('service', 92), ('increase', 92), ('mars', 91), ('humanity', 91), ('sit', 91), ('stars', 91), ('incredibly', 91), ('english', 91), ('certainly', 91), ('extraordinary', 91), ('500', 91), ('teach', 91), ('male', 91), ('experiences', 90), ('challenges', 90), ('wall', 90), ('goal', 90), ('clearly', 90), ('wants', 90), ('3d', 90), ('watched', 90), ('knows', 90), ('hot', 90), ('further', 90), ('text', 90), ('killed', 90), ('4', 89), ('mass', 89), ('fall', 89), ('haven', 89), ('sounds', 89), ('quality', 88), ('nearly', 88), ('exciting', 88), ('vision', 88), ('despite', 88), ('babies', 88), ('west', 88)]\n"
          ]
        }
      ],
      "source": [
        "#Your Code here\n",
        "counts_ted_top1000tupels=Counter(tokens).most_common(1000)\n",
        "print(counts_ted_top1000tupels)\n",
        "  \n",
        "\n",
        "\n"
      ]
    },
    {
      "cell_type": "markdown",
      "source": [],
      "metadata": {
        "id": "a1sC288W8tin"
      }
    },
    {
      "cell_type": "markdown",
      "metadata": {
        "id": "hti5NFdGaBuX"
      },
      "source": [
        "The following code is going to plot a histogramm of the distribution of the  top-30 words."
      ]
    },
    {
      "cell_type": "code",
      "execution_count": 41,
      "metadata": {
        "id": "kjdE_DKLco_S",
        "outputId": "43c271aa-85e6-40f0-dbd5-149c00a480b2",
        "colab": {
          "base_uri": "https://localhost:8080/",
          "height": 297
        }
      },
      "outputs": [
        {
          "output_type": "display_data",
          "data": {
            "text/plain": [
              "<Figure size 432x288 with 1 Axes>"
            ],
            "image/png": "[encoded data removed]"
          },
          "metadata": {
            "needs_background": "light"
          }
        }
      ],
      "source": [
        "import matplotlib.pyplot as plt\n",
        "mostfreqn=30 #Here we define how many of them we want to see in the diagramm \n",
        "frequency=[y for (x,y) in counts_ted_top1000tupels][:mostfreqn]\n",
        "word=[x for (x,y) in counts_ted_top1000tupels][:mostfreqn]\n",
        "indices = np.arange(len(counts_ted_top1000tupels[:mostfreqn]))\n",
        "plt.bar(indices, frequency, color='r')\n",
        "plt.xticks(indices, word, rotation='vertical')\n",
        "plt.tight_layout()\n",
        "plt.show()"
      ]
    },
    {
      "cell_type": "markdown",
      "metadata": {
        "id": "1vnAj55Aco_U"
      },
      "source": [
        "You can clearly see, that many of the most common words are so called stop words. Stop Words are words, that are tipically not usefull to identify what a text is about."
      ]
    },
    {
      "cell_type": "markdown",
      "metadata": {
        "id": "2oRdD3e4aBud"
      },
      "source": [
        "### Part 3: Train Word2Vec"
      ]
    },
    {
      "cell_type": "markdown",
      "metadata": {
        "id": "kp0JGmKWhrNd"
      },
      "source": [
        "Now it is time to train the modell. Gensim has an already implemented model that you can use."
      ]
    },
    {
      "cell_type": "markdown",
      "metadata": {
        "id": "JTA9yWtdhb6z"
      },
      "source": [
        "Using the provided modell is enough for the purposes of our notebook. If you want to dive deeper into the topic this youtube video https://www.youtube.com/watch?v=kKDYtZfriI8 could be a great guidance for you to get started. \n"
      ]
    },
    {
      "cell_type": "code",
      "execution_count": 42,
      "metadata": {
        "id": "A_t4-aiTaBue"
      },
      "outputs": [],
      "source": [
        "#This takes a moment...dont worry :D\n",
        "from gensim.models import Word2Vec\n",
        "model_ted = Word2Vec(sentences_ted)"
      ]
    },
    {
      "cell_type": "markdown",
      "metadata": {
        "id": "KKYd7ZemaBuj"
      },
      "source": [
        "### Part 4: Ted Learnt Representations (3 Points)\n"
      ]
    },
    {
      "cell_type": "markdown",
      "metadata": {
        "id": "P7VvU82AaBuj"
      },
      "source": [
        "Finding similar words: (see gensim docs for functions, that might help you https://radimrehurek.com/gensim/models/keyedvectors.html)"
      ]
    },
    {
      "cell_type": "markdown",
      "metadata": {
        "id": "NW2Gbn4Qco_a"
      },
      "source": [
        "Now lets explore what we can do with this! How does \"house\" look in our embedding?"
      ]
    },
    {
      "cell_type": "code",
      "execution_count": 72,
      "metadata": {
        "id": "PKtCfFD4co_b",
        "colab": {
          "base_uri": "https://localhost:8080/"
        },
        "outputId": "64c29bc7-ac2a-4a4a-b9af-63d079f85b32"
      },
      "outputs": [
        {
          "output_type": "execute_result",
          "data": {
            "text/plain": [
              "array([ 0.03063719,  0.0184906 ,  0.1632222 , -0.01182187, -0.02433763,\n",
              "        0.13553883, -0.1481616 ,  0.3845663 ,  0.20837821,  0.03721816,\n",
              "       -0.15461116, -0.05649447, -0.10692627, -0.4144742 , -0.1669407 ,\n",
              "        0.57132024, -0.41476113, -0.17212304,  0.11365388, -0.25322416,\n",
              "        0.2496139 ,  0.03727246, -0.006643  , -0.28654778,  0.1797364 ,\n",
              "       -0.51725274, -0.09610847, -0.08210698, -0.19388601,  0.15114596,\n",
              "       -0.18320033, -0.16499536,  0.44513762,  0.18973   ,  0.18522587,\n",
              "        0.09678414, -0.13326916,  0.10257364,  0.16442163, -0.12329889,\n",
              "       -0.46538955, -0.42395478,  0.057711  ,  0.17445065, -0.16887064,\n",
              "        0.7629037 , -0.03242824, -0.00259277, -0.33456138,  0.11520066,\n",
              "        0.09233395, -0.22896937, -0.03764975, -0.187741  ,  0.09444866,\n",
              "        0.3517988 , -0.04710506,  0.28704226,  0.12391376, -0.11897331,\n",
              "       -0.22045526, -0.04814705, -0.10645482, -0.37531117,  0.13770857,\n",
              "       -0.13716397,  0.34187928, -0.10746688, -0.08199459, -0.07396951,\n",
              "        0.05176692,  0.01067858, -0.02671403, -0.02567617, -0.19985342,\n",
              "        0.30891502, -0.01055925, -0.03731189,  0.27063435,  0.02668527,\n",
              "        0.16933843, -0.10721151, -0.3403573 ,  0.35722893, -0.31205305,\n",
              "       -0.1245812 , -0.12850732,  0.04155499, -0.08596364, -0.07720611,\n",
              "       -0.10497303, -0.09633854, -0.52657616, -0.28068382, -0.554197  ,\n",
              "        0.11053634, -0.05279171,  0.14614819,  0.19143537,  0.3011999 ],\n",
              "      dtype=float32)"
            ]
          },
          "metadata": {},
          "execution_count": 72
        }
      ],
      "source": [
        "#YOUR CODE\n",
        "model_ted.wv[\"house\"]"
      ]
    },
    {
      "cell_type": "markdown",
      "metadata": {
        "id": "vTZrG4pXco_b"
      },
      "source": [
        "What is the most similar word for \"town\"?"
      ]
    },
    {
      "cell_type": "code",
      "execution_count": 74,
      "metadata": {
        "id": "Y7Rr8Hktco_d",
        "colab": {
          "base_uri": "https://localhost:8080/"
        },
        "outputId": "f20b33f2-5ea1-4021-a5b9-4bf7f5e8f4db"
      },
      "outputs": [
        {
          "output_type": "execute_result",
          "data": {
            "text/plain": [
              "[('third', 0.9950438737869263),\n",
              " ('olympics', 0.9945285320281982),\n",
              " ('higgs', 0.9944819211959839),\n",
              " ('division', 0.994293212890625),\n",
              " ('opening', 0.9940726161003113),\n",
              " ('famous', 0.9940111637115479),\n",
              " ('whale', 0.9935892224311829),\n",
              " ('frozen', 0.9935235977172852),\n",
              " ('salmon', 0.9934618473052979),\n",
              " ('recent', 0.9934059381484985)]"
            ]
          },
          "metadata": {},
          "execution_count": 74
        }
      ],
      "source": [
        "#YOUR CODE\n",
        "model_ted.wv.most_similar('town') #distance"
      ]
    },
    {
      "cell_type": "markdown",
      "metadata": {
        "id": "mv5QMF4gco_f"
      },
      "source": [
        "How similar are the words \"town\" and \"house\"?"
      ]
    },
    {
      "cell_type": "code",
      "execution_count": 75,
      "metadata": {
        "id": "d3DwXOLeco_g",
        "colab": {
          "base_uri": "https://localhost:8080/"
        },
        "outputId": "8b0dc082-5286-43ae-e4f1-13208f17c479"
      },
      "outputs": [
        {
          "output_type": "execute_result",
          "data": {
            "text/plain": [
              "0.97964406"
            ]
          },
          "metadata": {},
          "execution_count": 75
        }
      ],
      "source": [
        "#YOUR CODE\n",
        "model_ted.wv.similarity('town','house')"
      ]
    },
    {
      "cell_type": "markdown",
      "metadata": {
        "id": "p7I5G-KpqbfH"
      },
      "source": [
        "<h4>Exercise 4.1 (3 Points)</h4>\n",
        "Now that we have trained our own embedding, lets test some classical ideas: \n",
        "implement the following formula. Print out the 10 words, that are most similar to this formula: <br>\n",
        "$King-Man+Woman=???$\n",
        "There are two ways of computing similarity in word Embeddings:\n",
        " - https://tedboy.github.io/nlps/generated/generated/gensim.models.Word2Vec.most_similar.html\n",
        " - https://tedboy.github.io/nlps/generated/generated/gensim.models.Word2Vec.most_similar_cosmul.html\n",
        "You should try out both! In this case one of them is better, but both of them are valid methods for computing similarity in the word-space.\n"
      ]
    },
    {
      "cell_type": "code",
      "execution_count": 76,
      "metadata": {
        "id": "S0y_5MLlqiMx",
        "colab": {
          "base_uri": "https://localhost:8080/"
        },
        "outputId": "03a1bd53-e068-4afc-898a-d9f26c0d5c35"
      },
      "outputs": [
        {
          "output_type": "execute_result",
          "data": {
            "text/plain": [
              "[('street', 0.9898291826248169),\n",
              " ('rising', 0.9894461631774902),\n",
              " ('nigeria', 0.9892659187316895),\n",
              " ('refugee', 0.9892598390579224),\n",
              " ('becoming', 0.988215446472168),\n",
              " ('fairly', 0.9879623651504517),\n",
              " ('ice', 0.987359881401062),\n",
              " ('red', 0.9872756004333496),\n",
              " ('library', 0.9870085716247559),\n",
              " ('golf', 0.986980676651001)]"
            ]
          },
          "metadata": {},
          "execution_count": 76
        }
      ],
      "source": [
        "#Your Implementation goes here!\n",
        "model_ted.wv.most_similar(positive=['king', 'woman'], negative=['man'], topn=10) "
      ]
    },
    {
      "cell_type": "markdown",
      "metadata": {
        "id": "HMlPdqqZco_i"
      },
      "source": [
        "<h4>Exercise 4.2 (2 Points)</h4>\n",
        "The expected outcome (Queen) should be one of the top ten most similar words. But there are also a lot of words, that you would not expect. Think about where how these words might be connected to the formula. Take your time and understand why some of the words (luther, mary, dr, president) might be in this list."
      ]
    },
    {
      "cell_type": "markdown",
      "metadata": {
        "id": "snfyuAn3iraJ"
      },
      "source": [
        "YOUR ANSWER GOES HERE"
      ]
    },
    {
      "cell_type": "markdown",
      "metadata": {
        "id": "TMtpPOVtaBup"
      },
      "source": [
        "#### t-SNE visualization\n",
        "\n",
        "We will use the t-SNE algorithm, given belwo, for visualization. The so-called t-Distributed Stochastic Neighbor Embedding (t-SNE) is an unsupervised and non-linear machine learning technique. It is commonly used for visualizing high dimensional data (just like our high dimensional vectors). You do not have to understand the code, it's purpose is simply to give you an idea of how the data is arranged in high dimensional space."
      ]
    },
    {
      "cell_type": "markdown",
      "metadata": {
        "id": "Ej8Ud778co_k"
      },
      "source": [
        "<h4>Exercise 4.3 (2 Points)</h4>\n",
        "To use the t-SNE code below, first put a list of the top 100 words (as strings) into a variable `words_top_ted`. "
      ]
    },
    {
      "cell_type": "code",
      "execution_count": 32,
      "metadata": {
        "id": "Xvlyyjf6co_m",
        "colab": {
          "base_uri": "https://localhost:8080/"
        },
        "outputId": "8ec6bb18-3f50-4eee-9b03-89965a93f24d"
      },
      "outputs": [
        {
          "output_type": "stream",
          "name": "stdout",
          "text": [
            "['the', 'and', 'to', 'of', 'a', 'that', 'i', 'in', 'we', 'it', 'you', 'is', 's', 'this', 'so', 'for', 'they', 'was', 'are', 'but', 'have', 'with', 'on', 'one', 'our', 'what', 'my', 't', 'not', 'all', 'can', 'be', 'at', 'about', 'as', 'like', 'there', 'from', 're', 'or', 'people', 'if', 'do', 'just', 'more', 'when', 'an', 'me', 'these', 'because', 'now', 'by', 'how', 'them', 'had', 'us', 'two', 'out', 'world', 'their', 'up', 'time', 'were', 'would', 'who', 'he', 'very', 'know', 've', 'see', 'think', 'your', 'could', 'going', 'm', 'get', 'has', 'into', 'where', 'really', 'then', 'don', 'first', 'been', 'years', 'no', 'work', 'hundred', 'will', 'go', 'those', 'than', 'much', 'make', 'some', 'even', 'here', 'which', 'new', 'right']\n"
          ]
        }
      ],
      "source": [
        "#Your implementation goes here!\n",
        "top_100_word=100\n",
        "words_top_ted=[word for(word,count) in counts_ted_top1000tupels][:top_100_word]\n",
        "print(words_top_ted)\n"
      ]
    },
    {
      "cell_type": "markdown",
      "metadata": {
        "id": "6g8JIRw4co_n"
      },
      "source": [
        "The following code gets the corresponding vectors from the model, assuming it's called `model_ted`:"
      ]
    },
    {
      "cell_type": "code",
      "execution_count": 33,
      "metadata": {
        "id": "0-lLF1lZaBus",
        "outputId": "08fd1434-9187-4490-e6a6-7addd2298946",
        "colab": {
          "base_uri": "https://localhost:8080/"
        }
      },
      "outputs": [
        {
          "output_type": "stream",
          "name": "stderr",
          "text": [
            "<ipython-input-33-44957c02f90d>:2: DeprecationWarning: Call to deprecated `__getitem__` (Method will be removed in 4.0.0, use self.wv.__getitem__() instead).\n",
            "  words_top_vec_ted = model_ted[words_top_ted]\n"
          ]
        }
      ],
      "source": [
        "# This assumes words_top_ted is a list of strings, the top 250 words\n",
        "words_top_vec_ted = model_ted[words_top_ted]"
      ]
    },
    {
      "cell_type": "markdown",
      "metadata": {
        "id": "-SgjCkvCco_p"
      },
      "source": [
        "The next few lines are for the t-SNE visualization."
      ]
    },
    {
      "cell_type": "code",
      "execution_count": 34,
      "metadata": {
        "id": "HeJF5ut9aBux",
        "colab": {
          "base_uri": "https://localhost:8080/"
        },
        "outputId": "1bda9190-3214-4e21-9842-d777865ea6c0"
      },
      "outputs": [
        {
          "output_type": "stream",
          "name": "stderr",
          "text": [
            "/usr/local/lib/python3.8/dist-packages/sklearn/manifold/_t_sne.py:780: FutureWarning: The default initialization in TSNE will change from 'random' to 'pca' in 1.2.\n",
            "  warnings.warn(\n",
            "/usr/local/lib/python3.8/dist-packages/sklearn/manifold/_t_sne.py:790: FutureWarning: The default learning rate in TSNE will change from 200.0 to 'auto' in 1.2.\n",
            "  warnings.warn(\n"
          ]
        }
      ],
      "source": [
        "from sklearn.manifold import TSNE \n",
        "tsne = TSNE(n_components=2, random_state=0)\n",
        "words_top_ted_tsne = tsne.fit_transform(words_top_vec_ted)"
      ]
    },
    {
      "cell_type": "code",
      "execution_count": 35,
      "metadata": {
        "id": "J2VgYLIZaBu2",
        "outputId": "ff38796b-71a0-4fef-b43b-cfa3f73e615d",
        "colab": {
          "base_uri": "https://localhost:8080/",
          "height": 617
        }
      },
      "outputs": [
        {
          "output_type": "display_data",
          "data": {
            "application/javascript": [
              "\n",
              "(function(root) {\n",
              "  function now() {\n",
              "    return new Date();\n",
              "  }\n",
              "\n",
              "  var force = true;\n",
              "\n",
              "  if (typeof root._bokeh_onload_callbacks === \"undefined\" || force === true) {\n",
              "    root._bokeh_onload_callbacks = [];\n",
              "    root._bokeh_is_loading = undefined;\n",
              "  }\n",
              "\n",
              "  var JS_MIME_TYPE = 'application/javascript';\n",
              "  var HTML_MIME_TYPE = 'text/html';\n",
              "  var EXEC_MIME_TYPE = 'application/vnd.bokehjs_exec.v0+json';\n",
              "  var CLASS_NAME = 'output_bokeh rendered_html';\n",
              "\n",
              "  /**\n",
              "   * Render data to the DOM node\n",
              "   */\n",
              "  function render(props, node) {\n",
              "    var script = document.createElement(\"script\");\n",
              "    node.appendChild(script);\n",
              "  }\n",
              "\n",
              "  /**\n",
              "   * Handle when an output is cleared or removed\n",
              "   */\n",
              "  function handleClearOutput(event, handle) {\n",
              "    var cell = handle.cell;\n",
              "\n",
              "    var id = cell.output_area._bokeh_element_id;\n",
              "    var server_id = cell.output_area._bokeh_server_id;\n",
              "    // Clean up Bokeh references\n",
              "    if (id != null && id in Bokeh.index) {\n",
              "      Bokeh.index[id].model.document.clear();\n",
              "      delete Bokeh.index[id];\n",
              "    }\n",
              "\n",
              "    if (server_id !== undefined) {\n",
              "      // Clean up Bokeh references\n",
              "      var cmd = \"from bokeh.io.state import curstate; print(curstate().uuid_to_server['\" + server_id + \"'].get_sessions()[0].document.roots[0]._id)\";\n",
              "      cell.notebook.kernel.execute(cmd, {\n",
              "        iopub: {\n",
              "          output: function(msg) {\n",
              "            var id = msg.content.text.trim();\n",
              "            if (id in Bokeh.index) {\n",
              "              Bokeh.index[id].model.document.clear();\n",
              "              delete Bokeh.index[id];\n",
              "            }\n",
              "          }\n",
              "        }\n",
              "      });\n",
              "      // Destroy server and session\n",
              "      var cmd = \"import bokeh.io.notebook as ion; ion.destroy_server('\" + server_id + \"')\";\n",
              "      cell.notebook.kernel.execute(cmd);\n",
              "    }\n",
              "  }\n",
              "\n",
              "  /**\n",
              "   * Handle when a new output is added\n",
              "   */\n",
              "  function handleAddOutput(event, handle) {\n",
              "    var output_area = handle.output_area;\n",
              "    var output = handle.output;\n",
              "\n",
              "    // limit handleAddOutput to display_data with EXEC_MIME_TYPE content only\n",
              "    if ((output.output_type != \"display_data\") || (!Object.prototype.hasOwnProperty.call(output.data, EXEC_MIME_TYPE))) {\n",
              "      return\n",
              "    }\n",
              "\n",
              "    var toinsert = output_area.element.find(\".\" + CLASS_NAME.split(' ')[0]);\n",
              "\n",
              "    if (output.metadata[EXEC_MIME_TYPE][\"id\"] !== undefined) {\n",
              "      toinsert[toinsert.length - 1].firstChild.textContent = output.data[JS_MIME_TYPE];\n",
              "      // store reference to embed id on output_area\n",
              "      output_area._bokeh_element_id = output.metadata[EXEC_MIME_TYPE][\"id\"];\n",
              "    }\n",
              "    if (output.metadata[EXEC_MIME_TYPE][\"server_id\"] !== undefined) {\n",
              "      var bk_div = document.createElement(\"div\");\n",
              "      bk_div.innerHTML = output.data[HTML_MIME_TYPE];\n",
              "      var script_attrs = bk_div.children[0].attributes;\n",
              "      for (var i = 0; i < script_attrs.length; i++) {\n",
              "        toinsert[toinsert.length - 1].firstChild.setAttribute(script_attrs[i].name, script_attrs[i].value);\n",
              "        toinsert[toinsert.length - 1].firstChild.textContent = bk_div.children[0].textContent\n",
              "      }\n",
              "      // store reference to server id on output_area\n",
              "      output_area._bokeh_server_id = output.metadata[EXEC_MIME_TYPE][\"server_id\"];\n",
              "    }\n",
              "  }\n",
              "\n",
              "  function register_renderer(events, OutputArea) {\n",
              "\n",
              "    function append_mime(data, metadata, element) {\n",
              "      // create a DOM node to render to\n",
              "      var toinsert = this.create_output_subarea(\n",
              "        metadata,\n",
              "        CLASS_NAME,\n",
              "        EXEC_MIME_TYPE\n",
              "      );\n",
              "      this.keyboard_manager.register_events(toinsert);\n",
              "      // Render to node\n",
              "      var props = {data: data, metadata: metadata[EXEC_MIME_TYPE]};\n",
              "      render(props, toinsert[toinsert.length - 1]);\n",
              "      element.append(toinsert);\n",
              "      return toinsert\n",
              "    }\n",
              "\n",
              "    /* Handle when an output is cleared or removed */\n",
              "    events.on('clear_output.CodeCell', handleClearOutput);\n",
              "    events.on('delete.Cell', handleClearOutput);\n",
              "\n",
              "    /* Handle when a new output is added */\n",
              "    events.on('output_added.OutputArea', handleAddOutput);\n",
              "\n",
              "    /**\n",
              "     * Register the mime type and append_mime function with output_area\n",
              "     */\n",
              "    OutputArea.prototype.register_mime_type(EXEC_MIME_TYPE, append_mime, {\n",
              "      /* Is output safe? */\n",
              "      safe: true,\n",
              "      /* Index of renderer in `output_area.display_order` */\n",
              "      index: 0\n",
              "    });\n",
              "  }\n",
              "\n",
              "  // register the mime type if in Jupyter Notebook environment and previously unregistered\n",
              "  if (root.Jupyter !== undefined) {\n",
              "    var events = require('base/js/events');\n",
              "    var OutputArea = require('notebook/js/outputarea').OutputArea;\n",
              "\n",
              "    if (OutputArea.prototype.mime_types().indexOf(EXEC_MIME_TYPE) == -1) {\n",
              "      register_renderer(events, OutputArea);\n",
              "    }\n",
              "  }\n",
              "\n",
              "  \n",
              "  if (typeof (root._bokeh_timeout) === \"undefined\" || force === true) {\n",
              "    root._bokeh_timeout = Date.now() + 5000;\n",
              "    root._bokeh_failed_load = false;\n",
              "  }\n",
              "\n",
              "  var NB_LOAD_WARNING = {'data': {'text/html':\n",
              "     \"<div style='background-color: #fdd'>\\n\"+\n",
              "     \"<p>\\n\"+\n",
              "     \"BokehJS does not appear to have successfully loaded. If loading BokehJS from CDN, this \\n\"+\n",
              "     \"may be due to a slow or bad network connection. Possible fixes:\\n\"+\n",
              "     \"</p>\\n\"+\n",
              "     \"<ul>\\n\"+\n",
              "     \"<li>re-rerun `output_notebook()` to attempt to load from CDN again, or</li>\\n\"+\n",
              "     \"<li>use INLINE resources instead, as so:</li>\\n\"+\n",
              "     \"</ul>\\n\"+\n",
              "     \"<code>\\n\"+\n",
              "     \"from bokeh.resources import INLINE\\n\"+\n",
              "     \"output_notebook(resources=INLINE)\\n\"+\n",
              "     \"</code>\\n\"+\n",
              "     \"</div>\"}};\n",
              "\n",
              "  function display_loaded() {\n",
              "    var el = document.getElementById(null);\n",
              "    if (el != null) {\n",
              "      el.textContent = \"BokehJS is loading...\";\n",
              "    }\n",
              "    if (root.Bokeh !== undefined) {\n",
              "      if (el != null) {\n",
              "        el.textContent = \"BokehJS \" + root.Bokeh.version + \" successfully loaded.\";\n",
              "      }\n",
              "    } else if (Date.now() < root._bokeh_timeout) {\n",
              "      setTimeout(display_loaded, 100)\n",
              "    }\n",
              "  }\n",
              "\n",
              "\n",
              "  function run_callbacks() {\n",
              "    try {\n",
              "      root._bokeh_onload_callbacks.forEach(function(callback) {\n",
              "        if (callback != null)\n",
              "          callback();\n",
              "      });\n",
              "    } finally {\n",
              "      delete root._bokeh_onload_callbacks\n",
              "    }\n",
              "    console.debug(\"Bokeh: all callbacks have finished\");\n",
              "  }\n",
              "\n",
              "  function load_libs(css_urls, js_urls, callback) {\n",
              "    if (css_urls == null) css_urls = [];\n",
              "    if (js_urls == null) js_urls = [];\n",
              "\n",
              "    root._bokeh_onload_callbacks.push(callback);\n",
              "    if (root._bokeh_is_loading > 0) {\n",
              "      console.debug(\"Bokeh: BokehJS is being loaded, scheduling callback at\", now());\n",
              "      return null;\n",
              "    }\n",
              "    if (js_urls == null || js_urls.length === 0) {\n",
              "      run_callbacks();\n",
              "      return null;\n",
              "    }\n",
              "    console.debug(\"Bokeh: BokehJS not loaded, scheduling load and callback at\", now());\n",
              "    root._bokeh_is_loading = css_urls.length + js_urls.length;\n",
              "\n",
              "    function on_load() {\n",
              "      root._bokeh_is_loading--;\n",
              "      if (root._bokeh_is_loading === 0) {\n",
              "        console.debug(\"Bokeh: all BokehJS libraries/stylesheets loaded\");\n",
              "        run_callbacks()\n",
              "      }\n",
              "    }\n",
              "\n",
              "    function on_error(url) {\n",
              "      console.error(\"failed to load \" + url);\n",
              "    }\n",
              "\n",
              "    for (let i = 0; i < css_urls.length; i++) {\n",
              "      const url = css_urls[i];\n",
              "      const element = document.createElement(\"link\");\n",
              "      element.onload = on_load;\n",
              "      element.onerror = on_error.bind(null, url);\n",
              "      element.rel = \"stylesheet\";\n",
              "      element.type = \"text/css\";\n",
              "      element.href = url;\n",
              "      console.debug(\"Bokeh: injecting link tag for BokehJS stylesheet: \", url);\n",
              "      document.body.appendChild(element);\n",
              "    }\n",
              "\n",
              "    const hashes = {\"https://cdn.bokeh.org/bokeh/release/bokeh-2.3.3.min.js\": \"dM3QQsP+wXdHg42wTqW85BjZQdLNNIXqlPw/BgKoExPmTG7ZLML4EGqLMfqHT6ON\", \"https://cdn.bokeh.org/bokeh/release/bokeh-tables-2.3.3.min.js\": \"8x57I4YuIfu8XyZfFo0XVr2WAT8EK4rh/uDe3wF7YuW2FNUSNEpJbsPaB1nJ2fz2\", \"https://cdn.bokeh.org/bokeh/release/bokeh-widgets-2.3.3.min.js\": \"3QTqdz9LyAm2i0sG5XTePsHec3UHWwVsrOL68SYRoAXsafvfAyqtQ+h440+qIBhS\"};\n",
              "\n",
              "    for (let i = 0; i < js_urls.length; i++) {\n",
              "      const url = js_urls[i];\n",
              "      const element = document.createElement('script');\n",
              "      element.onload = on_load;\n",
              "      element.onerror = on_error.bind(null, url);\n",
              "      element.async = false;\n",
              "      element.src = url;\n",
              "      if (url in hashes) {\n",
              "        element.crossOrigin = \"anonymous\";\n",
              "        element.integrity = \"sha384-\" + hashes[url];\n",
              "      }\n",
              "      console.debug(\"Bokeh: injecting script tag for BokehJS library: \", url);\n",
              "      document.head.appendChild(element);\n",
              "    }\n",
              "  };\n",
              "\n",
              "  function inject_raw_css(css) {\n",
              "    const element = document.createElement(\"style\");\n",
              "    element.appendChild(document.createTextNode(css));\n",
              "    document.body.appendChild(element);\n",
              "  }\n",
              "\n",
              "  \n",
              "  var js_urls = [\"https://cdn.bokeh.org/bokeh/release/bokeh-2.3.3.min.js\", \"https://cdn.bokeh.org/bokeh/release/bokeh-widgets-2.3.3.min.js\", \"https://cdn.bokeh.org/bokeh/release/bokeh-tables-2.3.3.min.js\"];\n",
              "  var css_urls = [];\n",
              "  \n",
              "\n",
              "  var inline_js = [\n",
              "    function(Bokeh) {\n",
              "      Bokeh.set_log_level(\"info\");\n",
              "    },\n",
              "    function(Bokeh) {\n",
              "    \n",
              "    \n",
              "    }\n",
              "  ];\n",
              "\n",
              "  function run_inline_js() {\n",
              "    \n",
              "    if (root.Bokeh !== undefined || force === true) {\n",
              "      \n",
              "    for (var i = 0; i < inline_js.length; i++) {\n",
              "      inline_js[i].call(root, root.Bokeh);\n",
              "    }\n",
              "    } else if (Date.now() < root._bokeh_timeout) {\n",
              "      setTimeout(run_inline_js, 100);\n",
              "    } else if (!root._bokeh_failed_load) {\n",
              "      console.log(\"Bokeh: BokehJS failed to load within specified timeout.\");\n",
              "      root._bokeh_failed_load = true;\n",
              "    } else if (force !== true) {\n",
              "      var cell = $(document.getElementById(null)).parents('.cell').data().cell;\n",
              "      cell.output_area.append_execute_result(NB_LOAD_WARNING)\n",
              "    }\n",
              "\n",
              "  }\n",
              "\n",
              "  if (root._bokeh_is_loading === 0) {\n",
              "    console.debug(\"Bokeh: BokehJS loaded, going straight to plotting\");\n",
              "    run_inline_js();\n",
              "  } else {\n",
              "    load_libs(css_urls, js_urls, function() {\n",
              "      console.debug(\"Bokeh: BokehJS plotting callback run at\", now());\n",
              "      run_inline_js();\n",
              "    });\n",
              "  }\n",
              "}(window));"
            ],
            "application/vnd.bokehjs_load.v0+json": "\n(function(root) {\n  function now() {\n    return new Date();\n  }\n\n  var force = true;\n\n  if (typeof root._bokeh_onload_callbacks === \"undefined\" || force === true) {\n    root._bokeh_onload_callbacks = [];\n    root._bokeh_is_loading = undefined;\n  }\n\n  \n\n  \n  if (typeof (root._bokeh_timeout) === \"undefined\" || force === true) {\n    root._bokeh_timeout = Date.now() + 5000;\n    root._bokeh_failed_load = false;\n  }\n\n  var NB_LOAD_WARNING = {'data': {'text/html':\n     \"<div style='background-color: #fdd'>\\n\"+\n     \"<p>\\n\"+\n     \"BokehJS does not appear to have successfully loaded. If loading BokehJS from CDN, this \\n\"+\n     \"may be due to a slow or bad network connection. Possible fixes:\\n\"+\n     \"</p>\\n\"+\n     \"<ul>\\n\"+\n     \"<li>re-rerun `output_notebook()` to attempt to load from CDN again, or</li>\\n\"+\n     \"<li>use INLINE resources instead, as so:</li>\\n\"+\n     \"</ul>\\n\"+\n     \"<code>\\n\"+\n     \"from bokeh.resources import INLINE\\n\"+\n     \"output_notebook(resources=INLINE)\\n\"+\n     \"</code>\\n\"+\n     \"</div>\"}};\n\n  function display_loaded() {\n    var el = document.getElementById(null);\n    if (el != null) {\n      el.textContent = \"BokehJS is loading...\";\n    }\n    if (root.Bokeh !== undefined) {\n      if (el != null) {\n        el.textContent = \"BokehJS \" + root.Bokeh.version + \" successfully loaded.\";\n      }\n    } else if (Date.now() < root._bokeh_timeout) {\n      setTimeout(display_loaded, 100)\n    }\n  }\n\n\n  function run_callbacks() {\n    try {\n      root._bokeh_onload_callbacks.forEach(function(callback) {\n        if (callback != null)\n          callback();\n      });\n    } finally {\n      delete root._bokeh_onload_callbacks\n    }\n    console.debug(\"Bokeh: all callbacks have finished\");\n  }\n\n  function load_libs(css_urls, js_urls, callback) {\n    if (css_urls == null) css_urls = [];\n    if (js_urls == null) js_urls = [];\n\n    root._bokeh_onload_callbacks.push(callback);\n    if (root._bokeh_is_loading > 0) {\n      console.debug(\"Bokeh: BokehJS is being loaded, scheduling callback at\", now());\n      return null;\n    }\n    if (js_urls == null || js_urls.length === 0) {\n      run_callbacks();\n      return null;\n    }\n    console.debug(\"Bokeh: BokehJS not loaded, scheduling load and callback at\", now());\n    root._bokeh_is_loading = css_urls.length + js_urls.length;\n\n    function on_load() {\n      root._bokeh_is_loading--;\n      if (root._bokeh_is_loading === 0) {\n        console.debug(\"Bokeh: all BokehJS libraries/stylesheets loaded\");\n        run_callbacks()\n      }\n    }\n\n    function on_error(url) {\n      console.error(\"failed to load \" + url);\n    }\n\n    for (let i = 0; i < css_urls.length; i++) {\n      const url = css_urls[i];\n      const element = document.createElement(\"link\");\n      element.onload = on_load;\n      element.onerror = on_error.bind(null, url);\n      element.rel = \"stylesheet\";\n      element.type = \"text/css\";\n      element.href = url;\n      console.debug(\"Bokeh: injecting link tag for BokehJS stylesheet: \", url);\n      document.body.appendChild(element);\n    }\n\n    const hashes = {\"https://cdn.bokeh.org/bokeh/release/bokeh-2.3.3.min.js\": \"dM3QQsP+wXdHg42wTqW85BjZQdLNNIXqlPw/BgKoExPmTG7ZLML4EGqLMfqHT6ON\", \"https://cdn.bokeh.org/bokeh/release/bokeh-tables-2.3.3.min.js\": \"8x57I4YuIfu8XyZfFo0XVr2WAT8EK4rh/uDe3wF7YuW2FNUSNEpJbsPaB1nJ2fz2\", \"https://cdn.bokeh.org/bokeh/release/bokeh-widgets-2.3.3.min.js\": \"3QTqdz9LyAm2i0sG5XTePsHec3UHWwVsrOL68SYRoAXsafvfAyqtQ+h440+qIBhS\"};\n\n    for (let i = 0; i < js_urls.length; i++) {\n      const url = js_urls[i];\n      const element = document.createElement('script');\n      element.onload = on_load;\n      element.onerror = on_error.bind(null, url);\n      element.async = false;\n      element.src = url;\n      if (url in hashes) {\n        element.crossOrigin = \"anonymous\";\n        element.integrity = \"sha384-\" + hashes[url];\n      }\n      console.debug(\"Bokeh: injecting script tag for BokehJS library: \", url);\n      document.head.appendChild(element);\n    }\n  };\n\n  function inject_raw_css(css) {\n    const element = document.createElement(\"style\");\n    element.appendChild(document.createTextNode(css));\n    document.body.appendChild(element);\n  }\n\n  \n  var js_urls = [\"https://cdn.bokeh.org/bokeh/release/bokeh-2.3.3.min.js\", \"https://cdn.bokeh.org/bokeh/release/bokeh-widgets-2.3.3.min.js\", \"https://cdn.bokeh.org/bokeh/release/bokeh-tables-2.3.3.min.js\"];\n  var css_urls = [];\n  \n\n  var inline_js = [\n    function(Bokeh) {\n      Bokeh.set_log_level(\"info\");\n    },\n    function(Bokeh) {\n    \n    \n    }\n  ];\n\n  function run_inline_js() {\n    \n    if (root.Bokeh !== undefined || force === true) {\n      \n    for (var i = 0; i < inline_js.length; i++) {\n      inline_js[i].call(root, root.Bokeh);\n    }\n    } else if (Date.now() < root._bokeh_timeout) {\n      setTimeout(run_inline_js, 100);\n    } else if (!root._bokeh_failed_load) {\n      console.log(\"Bokeh: BokehJS failed to load within specified timeout.\");\n      root._bokeh_failed_load = true;\n    } else if (force !== true) {\n      var cell = $(document.getElementById(null)).parents('.cell').data().cell;\n      cell.output_area.append_execute_result(NB_LOAD_WARNING)\n    }\n\n  }\n\n  if (root._bokeh_is_loading === 0) {\n    console.debug(\"Bokeh: BokehJS loaded, going straight to plotting\");\n    run_inline_js();\n  } else {\n    load_libs(css_urls, js_urls, function() {\n      console.debug(\"Bokeh: BokehJS plotting callback run at\", now());\n      run_inline_js();\n    });\n  }\n}(window));"
          },
          "metadata": {}
        },
        {
          "output_type": "display_data",
          "data": {
            "text/html": [
              "\n",
              "\n",
              "\n",
              "\n",
              "\n",
              "\n",
              "  <div class=\"bk-root\" id=\"3b18de22-b719-4800-8039-dad2991017a1\" data-root-id=\"1002\"></div>\n"
            ]
          },
          "metadata": {}
        },
        {
          "output_type": "display_data",
          "data": {
            "application/javascript": [
              "(function(root) {\n",
              "  function embed_document(root) {\n",
              "    \n",
              "  var docs_json = {\"98f22418-0afb-4508-a51b-c943e2b21078\":{\"defs\":[],\"roots\":{\"references\":[{\"attributes\":{\"below\":[{\"id\":\"1013\"}],\"center\":[{\"id\":\"1016\"},{\"id\":\"1020\"},{\"id\":\"1036\"}],\"left\":[{\"id\":\"1017\"}],\"renderers\":[{\"id\":\"1034\"}],\"title\":{\"id\":\"1003\"},\"toolbar\":{\"id\":\"1025\"},\"toolbar_location\":\"above\",\"x_range\":{\"id\":\"1005\"},\"x_scale\":{\"id\":\"1009\"},\"y_range\":{\"id\":\"1007\"},\"y_scale\":{\"id\":\"1011\"}},\"id\":\"1002\",\"subtype\":\"Figure\",\"type\":\"Plot\"},{\"attributes\":{\"data\":{\"names\":[\"the\",\"and\",\"to\",\"of\",\"a\",\"that\",\"i\",\"in\",\"we\",\"it\",\"you\",\"is\",\"s\",\"this\",\"so\",\"for\",\"they\",\"was\",\"are\",\"but\",\"have\",\"with\",\"on\",\"one\",\"our\",\"what\",\"my\",\"t\",\"not\",\"all\",\"can\",\"be\",\"at\",\"about\",\"as\",\"like\",\"there\",\"from\",\"re\",\"or\",\"people\",\"if\",\"do\",\"just\",\"more\",\"when\",\"an\",\"me\",\"these\",\"because\",\"now\",\"by\",\"how\",\"them\",\"had\",\"us\",\"two\",\"out\",\"world\",\"their\",\"up\",\"time\",\"were\",\"would\",\"who\",\"he\",\"very\",\"know\",\"ve\",\"see\",\"think\",\"your\",\"could\",\"going\",\"m\",\"get\",\"has\",\"into\",\"where\",\"really\",\"then\",\"don\",\"first\",\"been\",\"years\",\"no\",\"work\",\"hundred\",\"will\",\"go\",\"those\",\"than\",\"much\",\"make\",\"some\",\"even\",\"here\",\"which\",\"new\",\"right\"],\"x1\":{\"__ndarray__\":\"uD2YwNb4VMCIaMpAGKKfwKUlqb8SwJ5A8ssUQfEUj8Ba+QNBjezBQIUYJ0EUog8/AMxQQLapuT8qIfxA8DyQv59UAkEe9Ru9WbD2PwAW2kBk5wRBtuGLv1z2O8CsgbPAsJwwwIQFGEEwZMW/A6swQctvy0AYWpu9EzgWQR7P/0A/i0TAQuSdQNLvFkA8ZoJA068lQLeqfMDUbxBBbB6PPopiuL9mDiJBLrgfQQJDrkC9K6M79RrIQCdsaL8+QJpA5wPMv9SG0UCFZ5xAacJ8wN1oCEH0AXNAWH6Dv4xeNT/5J7rAji+bP7YydsC0lQzADbEiwJIpGMBnadk/0Jz2QNuzWz8R35u9WUIzQJN8J0Ebv51AercFQZWyH0GCelZAaszSQHUDCkFW3QNB9InXQBcoX8Bv0BHAnAI2QCGR9kB2AA9AY2gwQQTz0L9MXfs+Wc+twHV5yD8waLFAlzvAwI5caEDlI+NA1e1FPwePbcBnKrlA3EHBQOOnvz9Cg45AcxN0QERe2b/ojra/WTUDQA==\",\"dtype\":\"float32\",\"order\":\"little\",\"shape\":[100]},\"x2\":{\"__ndarray__\":\"Ve1AwKeWJ8CGLQDAZ7I2wJl8NsBmp1a/we80PzptKMDdWIE/+LuEP9ySXT7d2lLABJ+aP/s0a7/t6/q+sWAAwCW8fz+qOng+fSc9wJX08b2uL4q/Qkzmv4jjE8C0khjAH7q5v6rWDL67DTPA1RGVPpL81T64U/G/INhVvzcAib6vow7AXuCuv5l+yb8QTYq/X4eCPVB6D8Cy4ae/53gGwNfapr8zp6y+nKgGv1q4B78Wsry/SNIovxISC8A1+Sa/GLmWv/AiDr7jY2a/MyEFwBQKz773tAvAOvkwwGJbzb/GGxDATc/yv2BMUMBr6o2/BtMPwHKWTcCKVTvA5Z4RvxEiDsBN7FG/dk8VvzsL9r5a6I096H2Mv+szQb/REfC/fvFXv/g19b1299q/qziKv93sEsBmmui/yeDlv0zNyL1A5q2/FTrPvpxOM8B9NJW/ba8cwDSTRb4ILXG/0DUIwNVf1b9cO4S/ZxoPwN5r4b+6UEa/WGijv+YB1r9RRMm/FDazvh68AMCkFfi/waySvw==\",\"dtype\":\"float32\",\"order\":\"little\",\"shape\":[100]}},\"selected\":{\"id\":\"1046\"},\"selection_policy\":{\"id\":\"1045\"}},\"id\":\"1030\",\"type\":\"ColumnDataSource\"},{\"attributes\":{},\"id\":\"1045\",\"type\":\"UnionRenderers\"},{\"attributes\":{},\"id\":\"1005\",\"type\":\"DataRange1d\"},{\"attributes\":{},\"id\":\"1046\",\"type\":\"Selection\"},{\"attributes\":{\"source\":{\"id\":\"1030\"},\"text\":{\"field\":\"names\"},\"text_align\":{\"value\":\"center\"},\"text_color\":{\"value\":\"#555555\"},\"text_font_size\":{\"value\":\"8pt\"},\"x\":{\"field\":\"x1\"},\"y\":{\"field\":\"x2\"},\"y_offset\":{\"value\":6}},\"id\":\"1036\",\"type\":\"LabelSet\"},{\"attributes\":{\"text\":\"word2vec T-SNE for most common words\"},\"id\":\"1003\",\"type\":\"Title\"},{\"attributes\":{\"fill_color\":{\"value\":\"#1f77b4\"},\"line_color\":{\"value\":\"#1f77b4\"},\"size\":{\"value\":8},\"x\":{\"field\":\"x1\"},\"y\":{\"field\":\"x2\"}},\"id\":\"1032\",\"type\":\"Scatter\"},{\"attributes\":{},\"id\":\"1011\",\"type\":\"LinearScale\"},{\"attributes\":{\"active_multi\":null,\"tools\":[{\"id\":\"1021\"},{\"id\":\"1022\"},{\"id\":\"1023\"},{\"id\":\"1024\"}]},\"id\":\"1025\",\"type\":\"Toolbar\"},{\"attributes\":{\"formatter\":{\"id\":\"1042\"},\"major_label_policy\":{\"id\":\"1043\"},\"ticker\":{\"id\":\"1018\"}},\"id\":\"1017\",\"type\":\"LinearAxis\"},{\"attributes\":{},\"id\":\"1007\",\"type\":\"DataRange1d\"},{\"attributes\":{},\"id\":\"1009\",\"type\":\"LinearScale\"},{\"attributes\":{\"formatter\":{\"id\":\"1039\"},\"major_label_policy\":{\"id\":\"1040\"},\"ticker\":{\"id\":\"1014\"}},\"id\":\"1013\",\"type\":\"LinearAxis\"},{\"attributes\":{},\"id\":\"1014\",\"type\":\"BasicTicker\"},{\"attributes\":{},\"id\":\"1039\",\"type\":\"BasicTickFormatter\"},{\"attributes\":{\"data_source\":{\"id\":\"1030\"},\"glyph\":{\"id\":\"1032\"},\"hover_glyph\":null,\"muted_glyph\":null,\"nonselection_glyph\":{\"id\":\"1033\"},\"view\":{\"id\":\"1035\"}},\"id\":\"1034\",\"type\":\"GlyphRenderer\"},{\"attributes\":{\"axis\":{\"id\":\"1013\"},\"ticker\":null},\"id\":\"1016\",\"type\":\"Grid\"},{\"attributes\":{},\"id\":\"1042\",\"type\":\"BasicTickFormatter\"},{\"attributes\":{},\"id\":\"1043\",\"type\":\"AllLabels\"},{\"attributes\":{\"axis\":{\"id\":\"1017\"},\"dimension\":1,\"ticker\":null},\"id\":\"1020\",\"type\":\"Grid\"},{\"attributes\":{},\"id\":\"1018\",\"type\":\"BasicTicker\"},{\"attributes\":{},\"id\":\"1023\",\"type\":\"ResetTool\"},{\"attributes\":{\"fill_alpha\":{\"value\":0.1},\"fill_color\":{\"value\":\"#1f77b4\"},\"line_alpha\":{\"value\":0.1},\"line_color\":{\"value\":\"#1f77b4\"},\"size\":{\"value\":8},\"x\":{\"field\":\"x1\"},\"y\":{\"field\":\"x2\"}},\"id\":\"1033\",\"type\":\"Scatter\"},{\"attributes\":{},\"id\":\"1021\",\"type\":\"PanTool\"},{\"attributes\":{},\"id\":\"1022\",\"type\":\"WheelZoomTool\"},{\"attributes\":{},\"id\":\"1024\",\"type\":\"SaveTool\"},{\"attributes\":{\"source\":{\"id\":\"1030\"}},\"id\":\"1035\",\"type\":\"CDSView\"},{\"attributes\":{},\"id\":\"1040\",\"type\":\"AllLabels\"}],\"root_ids\":[\"1002\"]},\"title\":\"Bokeh Application\",\"version\":\"2.3.3\"}};\n",
              "  var render_items = [{\"docid\":\"98f22418-0afb-4508-a51b-c943e2b21078\",\"root_ids\":[\"1002\"],\"roots\":{\"1002\":\"3b18de22-b719-4800-8039-dad2991017a1\"}}];\n",
              "  root.Bokeh.embed.embed_items_notebook(docs_json, render_items);\n",
              "\n",
              "  }\n",
              "  if (root.Bokeh !== undefined) {\n",
              "    embed_document(root);\n",
              "  } else {\n",
              "    var attempts = 0;\n",
              "    var timer = setInterval(function(root) {\n",
              "      if (root.Bokeh !== undefined) {\n",
              "        clearInterval(timer);\n",
              "        embed_document(root);\n",
              "      } else {\n",
              "        attempts++;\n",
              "        if (attempts > 100) {\n",
              "          clearInterval(timer);\n",
              "          console.log(\"Bokeh: ERROR: Unable to run BokehJS code because BokehJS library is missing\");\n",
              "        }\n",
              "      }\n",
              "    }, 10, root)\n",
              "  }\n",
              "})(window);"
            ],
            "application/vnd.bokehjs_exec.v0+json": ""
          },
          "metadata": {
            "application/vnd.bokehjs_exec.v0+json": {
              "id": "1002"
            }
          }
        }
      ],
      "source": [
        "p = figure(tools=\"pan,wheel_zoom,reset,save\",\n",
        "           toolbar_location=\"above\",\n",
        "           title=\"word2vec T-SNE for most common words\")\n",
        "\n",
        "source = ColumnDataSource(data=dict(x1=words_top_ted_tsne[:,0],\n",
        "                                    x2=words_top_ted_tsne[:,1],\n",
        "                                    names=words_top_ted))\n",
        "\n",
        "p.scatter(x=\"x1\", y=\"x2\", size=8, source=source)\n",
        "\n",
        "labels = LabelSet(x=\"x1\", y=\"x2\", text=\"names\", y_offset=6,\n",
        "                  text_font_size=\"8pt\", text_color=\"#555555\",\n",
        "                  source=source, text_align='center')\n",
        "p.add_layout(labels)\n",
        "\n",
        "show(p)"
      ]
    }
  ],
  "metadata": {
    "anaconda-cloud": {},
    "colab": {
      "provenance": [],
      "include_colab_link": true
    },
    "kernelspec": {
      "display_name": "Python 3.10.8 64-bit",
      "language": "python",
      "name": "python3"
    },
    "language_info": {
      "codemirror_mode": {
        "name": "ipython",
        "version": 3
      },
      "file_extension": ".py",
      "mimetype": "text/x-python",
      "name": "python",
      "nbconvert_exporter": "python",
      "pygments_lexer": "ipython3",
      "version": "3.10.8"
    },
    "vscode": {
      "interpreter": {
        "hash": "a65b432e5f6ef459234b115bd38a5a83e07ef48382088862c801d0ac79c3a091"
      }
    },
    "accelerator": "TPU",
    "gpuClass": "standard"
  },
  "nbformat": 4,
  "nbformat_minor": 0
}