{
  "cells": [
    {
      "cell_type": "markdown",
      "metadata": {
        "id": "view-in-github",
        "colab_type": "text"
      },
      "source": [
        "<a href=\"https://colab.research.google.com/github/MikeNsiah10/DLTFpT/blob/master/iannwtf_homework2.ipynb\" target=\"_parent\"><img src=\"https://colab.research.google.com/assets/colab-badge.svg\" alt=\"Open In Colab\"/></a>"
      ]
    },
    {
      "cell_type": "markdown",
      "source": [
        "#import the necessary libraries"
      ],
      "metadata": {
        "id": "RQbdAxyUwlv5"
      }
    },
    {
      "cell_type": "code",
      "execution_count": 12,
      "metadata": {
        "id": "XTfz-JkoKvK_"
      },
      "outputs": [],
      "source": [
        "import tensorflow as tf\n",
        "import tensorflow_datasets as tfds\n"
      ]
    },
    {
      "cell_type": "markdown",
      "source": [
        "#load the datasets"
      ],
      "metadata": {
        "id": "K5VbKReLwkHp"
      }
    },
    {
      "cell_type": "code",
      "execution_count": 13,
      "metadata": {
        "id": "pUdJJh85L9XN"
      },
      "outputs": [],
      "source": [
        "#load the datasets\n",
        "(train_set,test_set),set_info=tfds.load('mnist', split=['train','test'],as_supervised=True,with_info=True)\n",
        "#print(set_info)"
      ]
    },
    {
      "cell_type": "code",
      "execution_count": 14,
      "metadata": {
        "colab": {
          "base_uri": "https://localhost:8080/"
        },
        "id": "Nw8QmJHwPxLF",
        "outputId": "b81a86ed-a7ca-4276-8cc7-9230b8b9ca24"
      },
      "outputs": [
        {
          "output_type": "stream",
          "name": "stdout",
          "text": [
            "training images:60000, testing images:10000\n"
          ]
        }
      ],
      "source": [
        "#get the number of training and testing images\n",
        "train_images= set_info.splits['train'].num_examples\n",
        "test_images= set_info.splits['test'].num_examples\n",
        "print(f'training images:{train_images}, testing images:{test_images}')"
      ]
    },
    {
      "cell_type": "code",
      "execution_count": 15,
      "metadata": {
        "colab": {
          "base_uri": "https://localhost:8080/"
        },
        "id": "2Iow4NctcONm",
        "outputId": "49d4de2e-3be1-450a-c13d-c8dd0d5f98f7"
      },
      "outputs": [
        {
          "output_type": "stream",
          "name": "stdout",
          "text": [
            ", shape of image:(28, 28, 1),pixel value range:255\n"
          ]
        }
      ],
      "source": [
        "# Take one example from the training set\n",
        "#return a tuple of image,label\n",
        "example = next(iter(train_set))\n",
        "# Access the 'image' feature\n",
        "image = example[0]\n",
        "# Get the range of pixel values and shape of image\n",
        "pixel_value_range = (tf.reduce_max(image))\n",
        "print(f', shape of image:{image.shape},pixel value range:{pixel_value_range}')"
      ]
    },
    {
      "cell_type": "markdown",
      "source": [
        "#visualize the data"
      ],
      "metadata": {
        "id": "VEBK4c5Tvmbe"
      }
    },
    {
      "cell_type": "code",
      "execution_count": 16,
      "metadata": {
        "id": "glLlP2kNlJWc",
        "colab": {
          "base_uri": "https://localhost:8080/",
          "height": 749
        },
        "outputId": "6a299a23-cd71-414e-f80b-bd6d14d2fd40"
      },
      "outputs": [
        {
          "output_type": "display_data",
          "data": {
            "text/plain": [
              "<Figure size 900x900 with 9 Axes>"
            ],
            "image/png": "[encoded data removed]"
          },
          "metadata": {}
        }
      ],
      "source": [
        "figure = tfds.show_examples(train_set, set_info)\n"
      ]
    },
    {
      "cell_type": "markdown",
      "source": [
        "#Preprocess the data"
      ],
      "metadata": {
        "id": "tSW2JAyksxLi"
      }
    },
    {
      "cell_type": "code",
      "execution_count": 17,
      "metadata": {
        "id": "5QXIai_Qlnhd"
      },
      "outputs": [],
      "source": [
        "#function to preprocess the data\n",
        "num_examples=len(list(train_set))\n",
        "def pre_process(images):\n",
        "  #convert the dtype to float32\n",
        "  images=images.map(lambda img,target:(tf.cast(img,tf.float32),target))\n",
        "  #flattten the images to a 1D array\n",
        "  images=images.map(lambda img,target:(tf.reshape(img,(-1,)),target))\n",
        "  #normalize the images between the values [-1,1]\n",
        "  images=images.map(lambda img,target:((img/128)-1.,target))\n",
        "  # Ensure target values are cast to integer type\n",
        "  images = images.map(lambda img, target: (img, tf.cast(target, tf.int64)))\n",
        "  #one-hot encode the labels\n",
        "  images=images.map(lambda img,target:(img,tf.one_hot(target,depth=10)))\n",
        "  #shuffle the data with the number of training examples\n",
        "  images=images.shuffle(num_examples)\n",
        "  #choose a batch size\n",
        "  images=images.batch(64)\n",
        "  #prefetch by dynamically tuning the buffersize\n",
        "  images=images.prefetch(tf.data.AUTOTUNE)\n",
        "  #return preprocessed data\n",
        "  return images\n",
        "\n",
        "train_set=train_set.apply(pre_process)\n",
        "test_set=test_set.apply(pre_process)\n",
        "\n",
        "\n",
        "\n",
        "\n",
        "\n"
      ]
    },
    {
      "cell_type": "markdown",
      "metadata": {
        "id": "vQ8VTh5q37uk"
      },
      "source": [
        "#Build keras model"
      ]
    },
    {
      "cell_type": "code",
      "execution_count": 18,
      "metadata": {
        "id": "b9aH6gfN4Ejw"
      },
      "outputs": [],
      "source": [
        "class MyModel(tf.keras.Model):\n",
        "\n",
        "  def __init__(self):\n",
        "    #inherit the parent class\n",
        "    super().__init__()\n",
        "    #define the layers\n",
        "    self.dense1 = tf.keras.layers.Dense(256, activation=tf.nn.relu)\n",
        "    self.dense2 = tf.keras.layers.Dense(256, activation=tf.nn.relu)\n",
        "    self.dense3 = tf.keras.layers.Dense(10, activation=tf.nn.softmax)\n",
        "    #feedforward the inputs\n",
        "  def call(self,inputs):\n",
        "    x=self.dense1(inputs)\n",
        "    x=self.dense2(x)\n",
        "    x=self.dense3(x)\n",
        "    return x\n",
        "\n",
        "#create an object of the class model\n",
        "model=MyModel()\n",
        "\n",
        "\n"
      ]
    },
    {
      "cell_type": "markdown",
      "metadata": {
        "id": "zDIg1h0v71-x"
      },
      "source": [
        "#Training the network"
      ]
    },
    {
      "cell_type": "code",
      "execution_count": 19,
      "metadata": {
        "id": "iM8w928Z75N3"
      },
      "outputs": [],
      "source": [
        "# training function to train the network\n",
        "def train_model(num_epochs, model, train_ds, test_ds, loss_func, optimizer):\n",
        "    train_losses = []\n",
        "    train_accuracies = []\n",
        "    test_losses = []\n",
        "    test_accuracies= []\n",
        "\n",
        "    for epoch in range(num_epochs):\n",
        "        # Training step\n",
        "        for input, target in train_ds:\n",
        "           #forward pass\n",
        "            with tf.GradientTape() as tape:\n",
        "                prediction = model(input)\n",
        "                #compute the loss\n",
        "                loss = loss_func(target, prediction)\n",
        "            #backpropagate and optimization\n",
        "            gradients = tape.gradient(loss, model.trainable_variables)\n",
        "            optimizer.apply_gradients(zip(gradients, model.trainable_variables))\n",
        "\n",
        "        # Calculate training loss and accuracy after each epoch\n",
        "        train_loss, train_accuracy = model.evaluate(train_ds, verbose=2)\n",
        "        train_losses.append(train_loss)\n",
        "        train_accuracies.append(train_accuracy)\n",
        "\n",
        "        # Calculate test loss and accuracy after each epoch\n",
        "        test_loss, test_accuracy = model.evaluate(test_ds, verbose=2)\n",
        "        test_losses.append(test_loss)\n",
        "        test_accuracies.append(test_accuracy)\n",
        "\n",
        "        # Print progress\n",
        "        print(f'Epoch {epoch + 1}/{num_epochs} - '\n",
        "              f'Training Loss: {train_loss:.4f}, Training Accuracy: {train_accuracy:.4f} - '\n",
        "              f'Test Loss: {test_loss:.4f}, Test Accuracy: {test_accuracy:.4f}')\n",
        "\n",
        "    # Return the filled arrays\n",
        "    return train_losses, train_accuracies, test_losses, test_accuracies\n",
        "\n",
        "\n"
      ]
    },
    {
      "cell_type": "code",
      "execution_count": 20,
      "metadata": {
        "colab": {
          "base_uri": "https://localhost:8080/"
        },
        "id": "n24scIxPfZgX",
        "outputId": "df0e59a0-5334-41f4-9065-e888b1418224"
      },
      "outputs": [
        {
          "output_type": "stream",
          "name": "stdout",
          "text": [
            "938/938 - 6s - loss: 0.1544 - accuracy: 0.9530 - 6s/epoch - 7ms/step\n",
            "100/100 - 2s - loss: 0.1551 - accuracy: 0.9527 - 2s/epoch - 23ms/step\n",
            "Epoch 1/10 - Training Loss: 0.1544, Training Accuracy: 0.9530 - Test Loss: 0.1551, Test Accuracy: 0.9527\n",
            "938/938 - 6s - loss: 0.1241 - accuracy: 0.9608 - 6s/epoch - 7ms/step\n",
            "100/100 - 2s - loss: 0.1381 - accuracy: 0.9553 - 2s/epoch - 15ms/step\n",
            "Epoch 2/10 - Training Loss: 0.1241, Training Accuracy: 0.9608 - Test Loss: 0.1381, Test Accuracy: 0.9553\n",
            "938/938 - 8s - loss: 0.0885 - accuracy: 0.9730 - 8s/epoch - 8ms/step\n",
            "100/100 - 1s - loss: 0.1012 - accuracy: 0.9658 - 986ms/epoch - 10ms/step\n",
            "Epoch 3/10 - Training Loss: 0.0885, Training Accuracy: 0.9730 - Test Loss: 0.1012, Test Accuracy: 0.9658\n",
            "938/938 - 6s - loss: 0.0874 - accuracy: 0.9721 - 6s/epoch - 7ms/step\n",
            "100/100 - 1s - loss: 0.1095 - accuracy: 0.9652 - 1s/epoch - 14ms/step\n",
            "Epoch 4/10 - Training Loss: 0.0874, Training Accuracy: 0.9721 - Test Loss: 0.1095, Test Accuracy: 0.9652\n",
            "938/938 - 7s - loss: 0.0789 - accuracy: 0.9751 - 7s/epoch - 8ms/step\n",
            "100/100 - 1s - loss: 0.1014 - accuracy: 0.9692 - 1s/epoch - 11ms/step\n",
            "Epoch 5/10 - Training Loss: 0.0789, Training Accuracy: 0.9751 - Test Loss: 0.1014, Test Accuracy: 0.9692\n",
            "938/938 - 8s - loss: 0.0441 - accuracy: 0.9857 - 8s/epoch - 8ms/step\n",
            "100/100 - 1s - loss: 0.0849 - accuracy: 0.9734 - 1s/epoch - 11ms/step\n",
            "Epoch 6/10 - Training Loss: 0.0441, Training Accuracy: 0.9857 - Test Loss: 0.0849, Test Accuracy: 0.9734\n",
            "938/938 - 7s - loss: 0.0666 - accuracy: 0.9775 - 7s/epoch - 7ms/step\n",
            "100/100 - 1s - loss: 0.1102 - accuracy: 0.9661 - 947ms/epoch - 9ms/step\n",
            "Epoch 7/10 - Training Loss: 0.0666, Training Accuracy: 0.9775 - Test Loss: 0.1102, Test Accuracy: 0.9661\n",
            "938/938 - 8s - loss: 0.0327 - accuracy: 0.9902 - 8s/epoch - 8ms/step\n",
            "100/100 - 1s - loss: 0.0697 - accuracy: 0.9791 - 948ms/epoch - 9ms/step\n",
            "Epoch 8/10 - Training Loss: 0.0327, Training Accuracy: 0.9902 - Test Loss: 0.0697, Test Accuracy: 0.9791\n",
            "938/938 - 8s - loss: 0.0215 - accuracy: 0.9935 - 8s/epoch - 8ms/step\n",
            "100/100 - 1s - loss: 0.0674 - accuracy: 0.9806 - 969ms/epoch - 10ms/step\n",
            "Epoch 9/10 - Training Loss: 0.0215, Training Accuracy: 0.9935 - Test Loss: 0.0674, Test Accuracy: 0.9806\n",
            "938/938 - 6s - loss: 0.0280 - accuracy: 0.9905 - 6s/epoch - 7ms/step\n",
            "100/100 - 1s - loss: 0.0794 - accuracy: 0.9767 - 1s/epoch - 10ms/step\n",
            "Epoch 10/10 - Training Loss: 0.0280, Training Accuracy: 0.9905 - Test Loss: 0.0794, Test Accuracy: 0.9767\n"
          ]
        }
      ],
      "source": [
        "# Define hyperparameters\n",
        "num_epochs = 10\n",
        "learning_rate = 0.1\n",
        "loss_func = tf.keras.losses.CategoricalCrossentropy()\n",
        "optimizer = tf.keras.optimizers.SGD(learning_rate=learning_rate)\n",
        "\n",
        "# Initialize datasets with subsets of training and test exmples\n",
        "train_ds =train_set.take(1000)\n",
        "test_ds= test_set.take(100)\n",
        "\n",
        "# Build the MyModel\n",
        "model = MyModel()\n",
        "\n",
        "# Compile the model\n",
        "model.compile(optimizer=optimizer, loss=loss_func, metrics=['accuracy'])\n",
        "\n",
        "# Train the model\n",
        "train_losses, train_accuracies, test_losses, test_accuracies = train_model(num_epochs, model, train_ds, test_ds, loss_func, optimizer)"
      ]
    },
    {
      "cell_type": "code",
      "execution_count": 21,
      "metadata": {
        "id": "jamcz8refo2b"
      },
      "outputs": [],
      "source": [
        "import matplotlib.pyplot as plt\n",
        "def visualization ( train_losses , train_accuracies , test_losses, test_accuracies):\n",
        "\n",
        " plt . figure ()\n",
        " line1 , = plt. plot ( train_losses , \"b-\")\n",
        " line2 , = plt. plot ( test_losses , \"r-\")\n",
        " line3 , = plt. plot ( train_accuracies , \"b:\")\n",
        " line4 , = plt. plot ( test_accuracies , \"r:\")\n",
        " plt . xlabel (\" Training steps \")\n",
        " plt . ylabel (\" Loss / Accuracy \")\n",
        " plt . legend (( line1 , line2 , line3 , line4 ), (\" training loss \", \"test loss \", \" train accuracy \", \" test accuracy \"))\n",
        " plt . show ()\n"
      ]
    },
    {
      "cell_type": "markdown",
      "source": [
        "#visualize the performance of the model"
      ],
      "metadata": {
        "id": "WPlMGEQbsnCW"
      }
    },
    {
      "cell_type": "code",
      "execution_count": 22,
      "metadata": {
        "id": "Tac1cZ8fiIXH",
        "colab": {
          "base_uri": "https://localhost:8080/",
          "height": 449
        },
        "outputId": "ba57ef85-e78f-4dba-9a1e-b8490584f058"
      },
      "outputs": [
        {
          "output_type": "display_data",
          "data": {
            "text/plain": [
              "<Figure size 640x480 with 1 Axes>"
            ],
            "image/png": "[encoded data removed]"
          },
          "metadata": {}
        }
      ],
      "source": [
        "visualization ( train_losses , train_accuracies , test_losses , test_accuracies)"
      ]
    }
  ],
  "metadata": {
    "colab": {
      "provenance": [],
      "authorship_tag": "ABX9TyO1uILQ85AdWych89nclw4k",
      "include_colab_link": true
    },
    "kernelspec": {
      "display_name": "Python 3",
      "name": "python3"
    },
    "language_info": {
      "name": "python"
    }
  },
  "nbformat": 4,
  "nbformat_minor": 0
}